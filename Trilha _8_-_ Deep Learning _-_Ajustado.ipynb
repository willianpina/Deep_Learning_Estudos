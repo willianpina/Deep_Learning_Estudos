{
 "cells": [
  {
   "cell_type": "markdown",
   "metadata": {},
   "source": [
    "# DEEP LEARNING [TURMA 01B] - 2021/2\n",
    "## Trilha 8: Tarefa (Peso 3)"
   ]
  },
  {
   "cell_type": "code",
   "execution_count": 60,
   "metadata": {
    "collapsed": true
   },
   "outputs": [],
   "source": [
    "import matplotlib.pyplot as plt\n",
    "import numpy as np\n",
    "import pandas as pd\n",
    "from imblearn.over_sampling import RandomOverSampler\n",
    "from sklearn.model_selection import train_test_split\n",
    "from IPython.display import display\n",
    "from tensorflow import keras\n",
    "from tensorflow.keras import layers\n",
    "import tensorflow as tf\n",
    "\n",
    "columns = ['CLASS', 'AGE','SEX','STEROID', 'ANTIVIRALS', 'FATIGUE', 'MALAISE','ANOREXIA','LIVER BIG', 'LIVER FIRM',\n",
    "           'SPLEEN PALPABLE', 'SPIDERS','ASCITES','VARICES', 'BILIRUBIN', 'ALK_PHOSPHATE', 'SGOT','ALBUMIN', 'PROTOTIPE','HISTOLOGY']\n",
    "url = 'https://archive.ics.uci.edu/ml/machine-learning-databases/hepatitis/hepatitis.data'\n",
    "dados = pd.read_csv(url, header=None)\n",
    "dados.columns=columns"
   ]
  },
  {
   "cell_type": "code",
   "execution_count": 61,
   "metadata": {
    "pycharm": {
     "name": "#%%\n"
    }
   },
   "outputs": [],
   "source": [
    "# tratando os dados\n",
    "\n",
    "dados.replace('?', np.nan,inplace=True)\n",
    "dados.dropna(inplace=True)\n",
    "\n",
    "# Trocando os valores de Class para 0 e 1.\n",
    "dados['CLASS'] = dados.CLASS.map({1:0,2:1})"
   ]
  },
  {
   "cell_type": "code",
   "execution_count": 62,
   "metadata": {
    "pycharm": {
     "name": "#%%\n"
    }
   },
   "outputs": [
    {
     "data": {
      "text/plain": "    CLASS  AGE  SEX STEROID  ANTIVIRALS FATIGUE MALAISE ANOREXIA LIVER BIG  \\\n5       1   34    1       2           2       2       2        2         2   \n10      1   39    1       1           1       2       2        2         1   \n11      1   32    1       2           1       1       2        2         2   \n12      1   41    1       2           1       1       2        2         2   \n13      1   30    1       2           2       1       2        2         2   \n\n   LIVER FIRM SPLEEN PALPABLE SPIDERS ASCITES VARICES BILIRUBIN ALK_PHOSPHATE  \\\n5           2               2       2       2       2      0.90            95   \n10          1               2       2       2       2      1.30            78   \n11          1               2       1       2       2      1.00            59   \n12          1               2       2       2       2      0.90            81   \n13          1               2       2       2       2      2.20            57   \n\n   SGOT ALBUMIN PROTOTIPE  HISTOLOGY  \n5    28     4.0        75          1  \n10   30     4.4        85          1  \n11  249     3.7        54          1  \n12   60     3.9        52          1  \n13  144     4.9        78          1  ",
      "text/html": "<div>\n<style scoped>\n    .dataframe tbody tr th:only-of-type {\n        vertical-align: middle;\n    }\n\n    .dataframe tbody tr th {\n        vertical-align: top;\n    }\n\n    .dataframe thead th {\n        text-align: right;\n    }\n</style>\n<table border=\"1\" class=\"dataframe\">\n  <thead>\n    <tr style=\"text-align: right;\">\n      <th></th>\n      <th>CLASS</th>\n      <th>AGE</th>\n      <th>SEX</th>\n      <th>STEROID</th>\n      <th>ANTIVIRALS</th>\n      <th>FATIGUE</th>\n      <th>MALAISE</th>\n      <th>ANOREXIA</th>\n      <th>LIVER BIG</th>\n      <th>LIVER FIRM</th>\n      <th>SPLEEN PALPABLE</th>\n      <th>SPIDERS</th>\n      <th>ASCITES</th>\n      <th>VARICES</th>\n      <th>BILIRUBIN</th>\n      <th>ALK_PHOSPHATE</th>\n      <th>SGOT</th>\n      <th>ALBUMIN</th>\n      <th>PROTOTIPE</th>\n      <th>HISTOLOGY</th>\n    </tr>\n  </thead>\n  <tbody>\n    <tr>\n      <th>5</th>\n      <td>1</td>\n      <td>34</td>\n      <td>1</td>\n      <td>2</td>\n      <td>2</td>\n      <td>2</td>\n      <td>2</td>\n      <td>2</td>\n      <td>2</td>\n      <td>2</td>\n      <td>2</td>\n      <td>2</td>\n      <td>2</td>\n      <td>2</td>\n      <td>0.90</td>\n      <td>95</td>\n      <td>28</td>\n      <td>4.0</td>\n      <td>75</td>\n      <td>1</td>\n    </tr>\n    <tr>\n      <th>10</th>\n      <td>1</td>\n      <td>39</td>\n      <td>1</td>\n      <td>1</td>\n      <td>1</td>\n      <td>2</td>\n      <td>2</td>\n      <td>2</td>\n      <td>1</td>\n      <td>1</td>\n      <td>2</td>\n      <td>2</td>\n      <td>2</td>\n      <td>2</td>\n      <td>1.30</td>\n      <td>78</td>\n      <td>30</td>\n      <td>4.4</td>\n      <td>85</td>\n      <td>1</td>\n    </tr>\n    <tr>\n      <th>11</th>\n      <td>1</td>\n      <td>32</td>\n      <td>1</td>\n      <td>2</td>\n      <td>1</td>\n      <td>1</td>\n      <td>2</td>\n      <td>2</td>\n      <td>2</td>\n      <td>1</td>\n      <td>2</td>\n      <td>1</td>\n      <td>2</td>\n      <td>2</td>\n      <td>1.00</td>\n      <td>59</td>\n      <td>249</td>\n      <td>3.7</td>\n      <td>54</td>\n      <td>1</td>\n    </tr>\n    <tr>\n      <th>12</th>\n      <td>1</td>\n      <td>41</td>\n      <td>1</td>\n      <td>2</td>\n      <td>1</td>\n      <td>1</td>\n      <td>2</td>\n      <td>2</td>\n      <td>2</td>\n      <td>1</td>\n      <td>2</td>\n      <td>2</td>\n      <td>2</td>\n      <td>2</td>\n      <td>0.90</td>\n      <td>81</td>\n      <td>60</td>\n      <td>3.9</td>\n      <td>52</td>\n      <td>1</td>\n    </tr>\n    <tr>\n      <th>13</th>\n      <td>1</td>\n      <td>30</td>\n      <td>1</td>\n      <td>2</td>\n      <td>2</td>\n      <td>1</td>\n      <td>2</td>\n      <td>2</td>\n      <td>2</td>\n      <td>1</td>\n      <td>2</td>\n      <td>2</td>\n      <td>2</td>\n      <td>2</td>\n      <td>2.20</td>\n      <td>57</td>\n      <td>144</td>\n      <td>4.9</td>\n      <td>78</td>\n      <td>1</td>\n    </tr>\n  </tbody>\n</table>\n</div>"
     },
     "execution_count": 62,
     "metadata": {},
     "output_type": "execute_result"
    }
   ],
   "source": [
    "# Expondo como ficou o tratamento dos dados\n",
    "dados.head()"
   ]
  },
  {
   "cell_type": "code",
   "execution_count": 63,
   "metadata": {
    "pycharm": {
     "name": "#%%\n"
    }
   },
   "outputs": [
    {
     "data": {
      "text/plain": "(80, 20)"
     },
     "execution_count": 63,
     "metadata": {},
     "output_type": "execute_result"
    }
   ],
   "source": [
    "# Avaliando o Shape dos Dados\n",
    "dados.shape"
   ]
  },
  {
   "cell_type": "code",
   "execution_count": 64,
   "metadata": {
    "pycharm": {
     "name": "#%%\n"
    }
   },
   "outputs": [
    {
     "data": {
      "text/plain": "<Figure size 864x360 with 1 Axes>",
      "image/png": "[encoded data removed]"
     },
     "metadata": {
      "needs_background": "light"
     },
     "output_type": "display_data"
    }
   ],
   "source": [
    "# Verificando o Balanceamento do DATASET\n",
    "plt.figure(figsize=(12,5))\n",
    "plt.ylabel(\"Quantidade de Valores\", fontsize=15, fontweight='bold')\n",
    "plt.xlabel(\"Classes\", fontsize=15, fontweight='bold')\n",
    "dados['CLASS'].value_counts().plot(kind='bar')\n",
    "plt.show()"
   ]
  },
  {
   "cell_type": "code",
   "execution_count": 65,
   "metadata": {
    "pycharm": {
     "name": "#%%\n"
    }
   },
   "outputs": [],
   "source": [
    "# Resolvendo esse problema de desbalanceamento com a técnica OVER-SAMPLING\n",
    "\n",
    "ros = RandomOverSampler(random_state=123)\n",
    "\n",
    "X_resample, y_resample = ros.fit_resample(dados.drop(labels=['CLASS'],axis=1),dados['CLASS'])\n",
    "\n",
    "# Concatenando os dados Resampleados com OverSample\n",
    "dados_resample = pd.concat([X_resample,y_resample],axis=1)"
   ]
  },
  {
   "cell_type": "code",
   "execution_count": 66,
   "metadata": {
    "pycharm": {
     "name": "#%%\n"
    }
   },
   "outputs": [
    {
     "name": "stdout",
     "output_type": "stream",
     "text": [
      "Os dados anteriores tinham 80 linhas e 20 colunas.\n",
      "Os dados modificados têm 134 linhas e 20 colunas.\n"
     ]
    }
   ],
   "source": [
    "# Verificando o Shape dos dados antigos e Novos\n",
    "print(f\"Os dados anteriores tinham {dados.shape[0]} linhas e {dados.shape[1]} colunas.\")\n",
    "print(f\"Os dados modificados têm {dados_resample.shape[0]} linhas e {dados_resample.shape[1]} colunas.\")"
   ]
  },
  {
   "cell_type": "code",
   "execution_count": 67,
   "metadata": {
    "pycharm": {
     "name": "#%%\n"
    }
   },
   "outputs": [
    {
     "data": {
      "text/plain": "<Figure size 864x360 with 1 Axes>",
      "image/png": "[encoded data removed]"
     },
     "metadata": {
      "needs_background": "light"
     },
     "output_type": "display_data"
    }
   ],
   "source": [
    "# Verificando o Balanceamento do DATASET após as modificações\n",
    "plt.figure(figsize=(12,5))\n",
    "plt.ylabel(\"Quantidade de Valores\", fontsize=15, fontweight='bold')\n",
    "plt.xlabel(\"Classes\", fontsize=15, fontweight='bold')\n",
    "dados_resample['CLASS'].value_counts().plot(kind='bar')\n",
    "plt.show()"
   ]
  },
  {
   "cell_type": "markdown",
   "metadata": {
    "pycharm": {
     "name": "#%% md\n"
    }
   },
   "source": [
    "## MODELO DEEP LEARNING"
   ]
  },
  {
   "cell_type": "markdown",
   "metadata": {},
   "source": [
    "### Preparando os dados"
   ]
  },
  {
   "cell_type": "code",
   "execution_count": 68,
   "metadata": {
    "pycharm": {
     "name": "#%%\n"
    }
   },
   "outputs": [
    {
     "data": {
      "text/plain": "     AGE  SEX STEROID  ANTIVIRALS FATIGUE MALAISE ANOREXIA LIVER BIG  \\\n100   39    1       1           1       1       1        2         2   \n74    47    1       2           2       1       1        2         2   \n102   59    1       1           2       1       1        2         2   \n65    34    2       2           2       1       1        1         1   \n21    35    1       2           2       1       2        2         2   \n\n    LIVER FIRM SPLEEN PALPABLE SPIDERS ASCITES VARICES BILIRUBIN  \\\n100          1               2       2       2       2      2.30   \n74           1               2       1       1       1      1.00   \n102          1               1       1       2       2      1.50   \n65           1               2       1       2       2      0.70   \n21           2               2       2       2       2      0.90   \n\n    ALK_PHOSPHATE SGOT ALBUMIN PROTOTIPE  HISTOLOGY  \n100           280   98     3.8        40          1  \n74            166   30     2.6        31          2  \n102           107  157     3.6        38          2  \n65             70   24     4.1       100          2  \n21             58   92     4.3        73          1  ",
      "text/html": "<div>\n<style scoped>\n    .dataframe tbody tr th:only-of-type {\n        vertical-align: middle;\n    }\n\n    .dataframe tbody tr th {\n        vertical-align: top;\n    }\n\n    .dataframe thead th {\n        text-align: right;\n    }\n</style>\n<table border=\"1\" class=\"dataframe\">\n  <thead>\n    <tr style=\"text-align: right;\">\n      <th></th>\n      <th>AGE</th>\n      <th>SEX</th>\n      <th>STEROID</th>\n      <th>ANTIVIRALS</th>\n      <th>FATIGUE</th>\n      <th>MALAISE</th>\n      <th>ANOREXIA</th>\n      <th>LIVER BIG</th>\n      <th>LIVER FIRM</th>\n      <th>SPLEEN PALPABLE</th>\n      <th>SPIDERS</th>\n      <th>ASCITES</th>\n      <th>VARICES</th>\n      <th>BILIRUBIN</th>\n      <th>ALK_PHOSPHATE</th>\n      <th>SGOT</th>\n      <th>ALBUMIN</th>\n      <th>PROTOTIPE</th>\n      <th>HISTOLOGY</th>\n    </tr>\n  </thead>\n  <tbody>\n    <tr>\n      <th>100</th>\n      <td>39</td>\n      <td>1</td>\n      <td>1</td>\n      <td>1</td>\n      <td>1</td>\n      <td>1</td>\n      <td>2</td>\n      <td>2</td>\n      <td>1</td>\n      <td>2</td>\n      <td>2</td>\n      <td>2</td>\n      <td>2</td>\n      <td>2.30</td>\n      <td>280</td>\n      <td>98</td>\n      <td>3.8</td>\n      <td>40</td>\n      <td>1</td>\n    </tr>\n    <tr>\n      <th>74</th>\n      <td>47</td>\n      <td>1</td>\n      <td>2</td>\n      <td>2</td>\n      <td>1</td>\n      <td>1</td>\n      <td>2</td>\n      <td>2</td>\n      <td>1</td>\n      <td>2</td>\n      <td>1</td>\n      <td>1</td>\n      <td>1</td>\n      <td>1.00</td>\n      <td>166</td>\n      <td>30</td>\n      <td>2.6</td>\n      <td>31</td>\n      <td>2</td>\n    </tr>\n    <tr>\n      <th>102</th>\n      <td>59</td>\n      <td>1</td>\n      <td>1</td>\n      <td>2</td>\n      <td>1</td>\n      <td>1</td>\n      <td>2</td>\n      <td>2</td>\n      <td>1</td>\n      <td>1</td>\n      <td>1</td>\n      <td>2</td>\n      <td>2</td>\n      <td>1.50</td>\n      <td>107</td>\n      <td>157</td>\n      <td>3.6</td>\n      <td>38</td>\n      <td>2</td>\n    </tr>\n    <tr>\n      <th>65</th>\n      <td>34</td>\n      <td>2</td>\n      <td>2</td>\n      <td>2</td>\n      <td>1</td>\n      <td>1</td>\n      <td>1</td>\n      <td>1</td>\n      <td>1</td>\n      <td>2</td>\n      <td>1</td>\n      <td>2</td>\n      <td>2</td>\n      <td>0.70</td>\n      <td>70</td>\n      <td>24</td>\n      <td>4.1</td>\n      <td>100</td>\n      <td>2</td>\n    </tr>\n    <tr>\n      <th>21</th>\n      <td>35</td>\n      <td>1</td>\n      <td>2</td>\n      <td>2</td>\n      <td>1</td>\n      <td>2</td>\n      <td>2</td>\n      <td>2</td>\n      <td>2</td>\n      <td>2</td>\n      <td>2</td>\n      <td>2</td>\n      <td>2</td>\n      <td>0.90</td>\n      <td>58</td>\n      <td>92</td>\n      <td>4.3</td>\n      <td>73</td>\n      <td>1</td>\n    </tr>\n  </tbody>\n</table>\n</div>"
     },
     "metadata": {},
     "output_type": "display_data"
    },
    {
     "data": {
      "text/plain": "100    0\n74     0\n102    0\n65     1\n21     1\nName: CLASS, dtype: int64"
     },
     "metadata": {},
     "output_type": "display_data"
    }
   ],
   "source": [
    "# Separando os dados de treinamento do Conjunto de Dados Modificado\n",
    "\n",
    "X_train, X_test, y_train, y_test = train_test_split(dados_resample.drop(labels=['CLASS'],axis=1),dados_resample['CLASS'],\n",
    "                                                    test_size=0.3, random_state=123)\n",
    "\n",
    "display(X_train.head())\n",
    "display(y_train.head())"
   ]
  },
  {
   "cell_type": "markdown",
   "metadata": {
    "pycharm": {
     "name": "#%% md\n"
    }
   },
   "source": [
    "### Declarando as camadas"
   ]
  },
  {
   "cell_type": "code",
   "execution_count": 69,
   "metadata": {
    "pycharm": {
     "name": "#%%\n"
    }
   },
   "outputs": [],
   "source": [
    "model = keras.Sequential([\n",
    "    layers.Dense(19, activation='tanh', input_shape=[19]),\n",
    "    layers.Dense(1, activation='tanh'),\n",
    "])"
   ]
  },
  {
   "cell_type": "code",
   "execution_count": 70,
   "metadata": {
    "pycharm": {
     "name": "#%%\n"
    }
   },
   "outputs": [
    {
     "name": "stdout",
     "output_type": "stream",
     "text": [
      "Model: \"sequential_8\"\n",
      "_________________________________________________________________\n",
      " Layer (type)                Output Shape              Param #   \n",
      "=================================================================\n",
      " dense_40 (Dense)            (None, 19)                380       \n",
      "                                                                 \n",
      " dense_41 (Dense)            (None, 1)                 20        \n",
      "                                                                 \n",
      "=================================================================\n",
      "Total params: 400\n",
      "Trainable params: 400\n",
      "Non-trainable params: 0\n",
      "_________________________________________________________________\n"
     ]
    }
   ],
   "source": [
    "model.summary()"
   ]
  },
  {
   "cell_type": "markdown",
   "metadata": {},
   "source": [
    "### Compilando o Modelo"
   ]
  },
  {
   "cell_type": "code",
   "execution_count": 71,
   "metadata": {
    "pycharm": {
     "name": "#%%\n"
    }
   },
   "outputs": [],
   "source": [
    "model.compile(\n",
    "    loss='binary_crossentropy',\n",
    "    metrics=['binary_accuracy'],\n",
    ")"
   ]
  },
  {
   "cell_type": "markdown",
   "metadata": {
    "pycharm": {
     "name": "#%% md\n"
    }
   },
   "source": [
    "### Treinando o Modelo"
   ]
  },
  {
   "cell_type": "code",
   "execution_count": 72,
   "metadata": {
    "pycharm": {
     "name": "#%%\n"
    }
   },
   "outputs": [],
   "source": [
    "history = model.fit(\n",
    "    np.asarray(X_train).astype(np.float32), np.asarray(y_train).astype(np.float32),\n",
    "    batch_size=32,\n",
    "    validation_split=0.3,\n",
    "    epochs=30,\n",
    "    verbose=0,\n",
    ")"
   ]
  },
  {
   "cell_type": "markdown",
   "metadata": {
    "pycharm": {
     "name": "#%% md\n"
    }
   },
   "source": [
    "### Curva de Aprendizado"
   ]
  },
  {
   "cell_type": "code",
   "execution_count": 73,
   "metadata": {
    "pycharm": {
     "name": "#%%\n"
    }
   },
   "outputs": [
    {
     "data": {
      "text/plain": "       loss  binary_accuracy  val_loss  val_binary_accuracy\n0  1.187393         0.415385  1.318555             0.357143\n1  1.007334         0.446154  1.284095             0.357143\n2  0.951545         0.400000  1.281120             0.357143\n3  0.933774         0.507692  1.222207             0.357143\n4  0.912468         0.430769  1.226334             0.392857",
      "text/html": "<div>\n<style scoped>\n    .dataframe tbody tr th:only-of-type {\n        vertical-align: middle;\n    }\n\n    .dataframe tbody tr th {\n        vertical-align: top;\n    }\n\n    .dataframe thead th {\n        text-align: right;\n    }\n</style>\n<table border=\"1\" class=\"dataframe\">\n  <thead>\n    <tr style=\"text-align: right;\">\n      <th></th>\n      <th>loss</th>\n      <th>binary_accuracy</th>\n      <th>val_loss</th>\n      <th>val_binary_accuracy</th>\n    </tr>\n  </thead>\n  <tbody>\n    <tr>\n      <th>0</th>\n      <td>1.187393</td>\n      <td>0.415385</td>\n      <td>1.318555</td>\n      <td>0.357143</td>\n    </tr>\n    <tr>\n      <th>1</th>\n      <td>1.007334</td>\n      <td>0.446154</td>\n      <td>1.284095</td>\n      <td>0.357143</td>\n    </tr>\n    <tr>\n      <th>2</th>\n      <td>0.951545</td>\n      <td>0.400000</td>\n      <td>1.281120</td>\n      <td>0.357143</td>\n    </tr>\n    <tr>\n      <th>3</th>\n      <td>0.933774</td>\n      <td>0.507692</td>\n      <td>1.222207</td>\n      <td>0.357143</td>\n    </tr>\n    <tr>\n      <th>4</th>\n      <td>0.912468</td>\n      <td>0.430769</td>\n      <td>1.226334</td>\n      <td>0.392857</td>\n    </tr>\n  </tbody>\n</table>\n</div>"
     },
     "metadata": {},
     "output_type": "display_data"
    },
    {
     "name": "stdout",
     "output_type": "stream",
     "text": [
      "Best Validation Loss: 0.8601\n",
      "Best Validation Accuracy: 0.4286\n"
     ]
    },
    {
     "data": {
      "text/plain": "<Figure size 432x288 with 1 Axes>",
      "image/png": "[encoded data removed]"
     },
     "metadata": {
      "needs_background": "light"
     },
     "output_type": "display_data"
    },
    {
     "data": {
      "text/plain": "<Figure size 432x288 with 1 Axes>",
      "image/png": "[encoded data removed]"
     },
     "metadata": {
      "needs_background": "light"
     },
     "output_type": "display_data"
    }
   ],
   "source": [
    "def display_hist(history):\n",
    "    history_df = pd.DataFrame(history.history)\n",
    "    display(history_df.head())\n",
    "\n",
    "    # Plotando os Gráficos\n",
    "    history_df.loc[0:, ['loss', 'val_loss']].plot()\n",
    "    history_df.loc[0:,['binary_accuracy', 'val_binary_accuracy']].plot()\n",
    "\n",
    "    print((\"Best Validation Loss: {:0.4f}\" \"\\nBest Validation Accuracy: {:0.4f}\"\\\n",
    "          .format(history_df['val_loss'].min(),\n",
    "                  history_df['val_binary_accuracy'].max())))\n",
    "\n",
    "    return\n",
    "\n",
    "display_hist(history)"
   ]
  },
  {
   "cell_type": "code",
   "execution_count": 74,
   "metadata": {
    "pycharm": {
     "name": "#%%\n"
    }
   },
   "outputs": [],
   "source": [
    "from sklearn.metrics import confusion_matrix, classification_report, accuracy_score\n",
    "\n",
    "def print_results(y_test, y_pred):\n",
    "    mc = pd.DataFrame(confusion_matrix(y_test,y_pred), index=['Atual: Não', 'Atual: Sim'],\n",
    "                      columns=['Predição: Não', 'Predição: Sim'])\n",
    "    display(mc)\n",
    "    class_report = pd.DataFrame(classification_report(y_test,y_pred, output_dict=True)).transpose()\n",
    "    display(class_report)\n",
    "    print(f\"Acuracidade: {round(accuracy_score(y_test,y_pred)* 100,2)} %\")\n",
    "    return"
   ]
  },
  {
   "cell_type": "code",
   "execution_count": 75,
   "metadata": {
    "pycharm": {
     "name": "#%%\n"
    }
   },
   "outputs": [
    {
     "name": "stdout",
     "output_type": "stream",
     "text": [
      "WARNING:tensorflow:5 out of the last 9 calls to <function Model.make_predict_function.<locals>.predict_function at 0x00000231FDDB05E0> triggered tf.function retracing. Tracing is expensive and the excessive number of tracings could be due to (1) creating @tf.function repeatedly in a loop, (2) passing tensors with different shapes, (3) passing Python objects instead of tensors. For (1), please define your @tf.function outside of the loop. For (2), @tf.function has experimental_relax_shapes=True option that relaxes argument shapes that can avoid unnecessary retracing. For (3), please refer to https://www.tensorflow.org/guide/function#controlling_retracing and https://www.tensorflow.org/api_docs/python/tf/function for  more details.\n"
     ]
    }
   ],
   "source": [
    "y_pred = model.predict(np.asarray(X_test).astype(np.float32)) > 0.5"
   ]
  },
  {
   "cell_type": "code",
   "execution_count": 76,
   "metadata": {
    "pycharm": {
     "name": "#%%\n"
    }
   },
   "outputs": [
    {
     "data": {
      "text/plain": "            Predição: Não  Predição: Sim\nAtual: Não              6             12\nAtual: Sim              8             15",
      "text/html": "<div>\n<style scoped>\n    .dataframe tbody tr th:only-of-type {\n        vertical-align: middle;\n    }\n\n    .dataframe tbody tr th {\n        vertical-align: top;\n    }\n\n    .dataframe thead th {\n        text-align: right;\n    }\n</style>\n<table border=\"1\" class=\"dataframe\">\n  <thead>\n    <tr style=\"text-align: right;\">\n      <th></th>\n      <th>Predição: Não</th>\n      <th>Predição: Sim</th>\n    </tr>\n  </thead>\n  <tbody>\n    <tr>\n      <th>Atual: Não</th>\n      <td>6</td>\n      <td>12</td>\n    </tr>\n    <tr>\n      <th>Atual: Sim</th>\n      <td>8</td>\n      <td>15</td>\n    </tr>\n  </tbody>\n</table>\n</div>"
     },
     "metadata": {},
     "output_type": "display_data"
    },
    {
     "data": {
      "text/plain": "              precision    recall  f1-score    support\n0.0            0.428571  0.333333  0.375000  18.000000\n1.0            0.555556  0.652174  0.600000  23.000000\naccuracy       0.512195  0.512195  0.512195   0.512195\nmacro avg      0.492063  0.492754  0.487500  41.000000\nweighted avg   0.499806  0.512195  0.501220  41.000000",
      "text/html": "<div>\n<style scoped>\n    .dataframe tbody tr th:only-of-type {\n        vertical-align: middle;\n    }\n\n    .dataframe tbody tr th {\n        vertical-align: top;\n    }\n\n    .dataframe thead th {\n        text-align: right;\n    }\n</style>\n<table border=\"1\" class=\"dataframe\">\n  <thead>\n    <tr style=\"text-align: right;\">\n      <th></th>\n      <th>precision</th>\n      <th>recall</th>\n      <th>f1-score</th>\n      <th>support</th>\n    </tr>\n  </thead>\n  <tbody>\n    <tr>\n      <th>0.0</th>\n      <td>0.428571</td>\n      <td>0.333333</td>\n      <td>0.375000</td>\n      <td>18.000000</td>\n    </tr>\n    <tr>\n      <th>1.0</th>\n      <td>0.555556</td>\n      <td>0.652174</td>\n      <td>0.600000</td>\n      <td>23.000000</td>\n    </tr>\n    <tr>\n      <th>accuracy</th>\n      <td>0.512195</td>\n      <td>0.512195</td>\n      <td>0.512195</td>\n      <td>0.512195</td>\n    </tr>\n    <tr>\n      <th>macro avg</th>\n      <td>0.492063</td>\n      <td>0.492754</td>\n      <td>0.487500</td>\n      <td>41.000000</td>\n    </tr>\n    <tr>\n      <th>weighted avg</th>\n      <td>0.499806</td>\n      <td>0.512195</td>\n      <td>0.501220</td>\n      <td>41.000000</td>\n    </tr>\n  </tbody>\n</table>\n</div>"
     },
     "metadata": {},
     "output_type": "display_data"
    },
    {
     "name": "stdout",
     "output_type": "stream",
     "text": [
      "Acuracidade: 51.22 %\n"
     ]
    }
   ],
   "source": [
    "print_results(np.asarray(y_test).astype(np.float32),y_pred)"
   ]
  },
  {
   "cell_type": "markdown",
   "source": [
    "## Utilizando o KERAS TUNER"
   ],
   "metadata": {
    "collapsed": false
   }
  },
  {
   "cell_type": "markdown",
   "source": [
    "### Importando a Biblioteca"
   ],
   "metadata": {
    "collapsed": false,
    "pycharm": {
     "name": "#%% md\n"
    }
   }
  },
  {
   "cell_type": "code",
   "execution_count": 77,
   "outputs": [],
   "source": [
    "import keras_tuner as kt"
   ],
   "metadata": {
    "collapsed": false,
    "pycharm": {
     "name": "#%%\n"
    }
   }
  },
  {
   "cell_type": "markdown",
   "source": [
    "### Preparando os dados"
   ],
   "metadata": {
    "collapsed": false,
    "pycharm": {
     "name": "#%% md\n"
    }
   }
  },
  {
   "cell_type": "code",
   "execution_count": 78,
   "outputs": [],
   "source": [
    "# Separando os dados de treinamento do Conjunto de Dados Modificado\n",
    "\n",
    "X_train, X_test, y_train, y_test = train_test_split(dados_resample.drop(labels=['CLASS'],axis=1),dados_resample['CLASS'],\n",
    "                                                    test_size=0.3, random_state=123)"
   ],
   "metadata": {
    "collapsed": false,
    "pycharm": {
     "name": "#%%\n"
    }
   }
  },
  {
   "cell_type": "markdown",
   "source": [
    "### Definindo o Modelo"
   ],
   "metadata": {
    "collapsed": false,
    "pycharm": {
     "name": "#%% md\n"
    }
   }
  },
  {
   "cell_type": "code",
   "execution_count": 79,
   "outputs": [],
   "source": [
    "from keras.layers import Dropout\n",
    "def model_builder(hp):\n",
    "    hp_units_1 = hp.Int('hp_units_1', min_value=4, max_value=128, step=4)\n",
    "    model = keras.Sequential(layers.Dense(units=hp_units_1, activation='tanh', input_shape=[X_train.shape[1]]))\n",
    "\n",
    "    for i in range(hp.Int('num_layers', 2, 6)):\n",
    "        model.add(Dropout(0.20))\n",
    "        model.add(layers.Dense(units=hp.Int('hp_units_' + str(i),\n",
    "                                            min_value=4,\n",
    "                                            max_value=256,\n",
    "                                            step=4),\n",
    "                               activation='tanh'))\n",
    "    model.add(layers.Dense(1,activation='tanh'))\n",
    "    hp_learning_rate = hp.Choice('learning_rate', values=[1e-2, 1e-3, 1e-4])\n",
    "    model.compile(keras.optimizers.Adam(learning_rate=hp_learning_rate),\n",
    "                  loss='binary_crossentropy',\n",
    "                  metrics=['binary_accuracy'])\n",
    "    return model"
   ],
   "metadata": {
    "collapsed": false,
    "pycharm": {
     "name": "#%%\n"
    }
   }
  },
  {
   "cell_type": "markdown",
   "source": [
    "## Tunning"
   ],
   "metadata": {
    "collapsed": false,
    "pycharm": {
     "name": "#%% md\n"
    }
   }
  },
  {
   "cell_type": "code",
   "execution_count": 80,
   "outputs": [
    {
     "name": "stdout",
     "output_type": "stream",
     "text": [
      "INFO:tensorflow:Reloading Oracle from existing project .\\untitled_project\\oracle.json\n",
      "INFO:tensorflow:Reloading Tuner from .\\untitled_project\\tuner0.json\n"
     ]
    }
   ],
   "source": [
    "tuner = kt.Hyperband(model_builder,\n",
    "                     objective='val_loss',\n",
    "                     max_epochs=50,\n",
    "                     factor=3,)"
   ],
   "metadata": {
    "collapsed": false,
    "pycharm": {
     "name": "#%%\n"
    }
   }
  },
  {
   "cell_type": "code",
   "execution_count": 81,
   "outputs": [
    {
     "name": "stdout",
     "output_type": "stream",
     "text": [
      "INFO:tensorflow:Oracle triggered exit\n"
     ]
    }
   ],
   "source": [
    "stop_early = tf.keras.callbacks.EarlyStopping(monitor='val-loss', patience=5)\n",
    "tuner.search(np.asarray(X_train).astype(np.float32), np.asarray(y_train).astype(np.float32),\n",
    "             batch_size=64,\n",
    "             epochs=50,\n",
    "             validation_split=0.2,\n",
    "             callbacks=[stop_early])"
   ],
   "metadata": {
    "collapsed": false,
    "pycharm": {
     "name": "#%%\n"
    }
   }
  },
  {
   "cell_type": "code",
   "execution_count": 82,
   "outputs": [],
   "source": [
    "best_hps=tuner.get_best_hyperparameters(num_trials=1)[0]"
   ],
   "metadata": {
    "collapsed": false,
    "pycharm": {
     "name": "#%%\n"
    }
   }
  },
  {
   "cell_type": "code",
   "execution_count": 83,
   "outputs": [
    {
     "name": "stdout",
     "output_type": "stream",
     "text": [
      "\n",
      "The hyperparameter search is complete.\n",
      "\n",
      "The optimal learning rate for the optimizer is 0.01.\n",
      "\n",
      "Best layers units: \n",
      "\n",
      "Layer:  1  ,  204  units\n",
      "Layer:  2  ,  48  units\n",
      "Layer:  3  ,  24  units\n",
      "Layer:  4  ,  52  units\n"
     ]
    }
   ],
   "source": [
    "print(f\"\"\"\n",
    "The hyperparameter search is complete.\n",
    "\n",
    "The optimal learning rate for the optimizer is {best_hps.get('learning_rate')}.\n",
    "\"\"\")\n",
    "\n",
    "print('Best layers units: \\n')\n",
    "for i in range(2,6):\n",
    "    print('Layer: ', i-1, ' , ', best_hps.get('hp_units_' + str(i)), ' units')"
   ],
   "metadata": {
    "collapsed": false,
    "pycharm": {
     "name": "#%%\n"
    }
   }
  },
  {
   "cell_type": "code",
   "execution_count": 84,
   "outputs": [
    {
     "name": "stdout",
     "output_type": "stream",
     "text": [
      "Best epoch: 1\n"
     ]
    }
   ],
   "source": [
    "# Construindo um modelo com os melhores hiperparâmetros\n",
    "model = tuner.hypermodel.build(best_hps)\n",
    "\n",
    "history = model.fit(np.asarray(X_train).astype(np.float32), np.asarray(y_train).astype(np.float32),\n",
    "                    batch_size=64,\n",
    "                    epochs=50,\n",
    "                    validation_split=0.2,\n",
    "                    verbose=0)\n",
    "\n",
    "val_acc_per_epoch = history.history['val_loss']\n",
    "best_epoch = val_acc_per_epoch.index(max(val_acc_per_epoch)) + 1\n",
    "print('Best epoch: %d' % (best_epoch,))"
   ],
   "metadata": {
    "collapsed": false,
    "pycharm": {
     "name": "#%%\n"
    }
   }
  },
  {
   "cell_type": "code",
   "execution_count": 85,
   "outputs": [
    {
     "name": "stdout",
     "output_type": "stream",
     "text": [
      "2/2 [==============================] - 0s 78ms/step - loss: 3.4155 - binary_accuracy: 0.5405 - val_loss: 4.3249 - val_binary_accuracy: 0.3158\n",
      "2/2 [==============================] - 0s 0s/step - loss: 2.9775 - binary_accuracy: 0.5610\n",
      "[test loss, test accuracy]: [2.97748064994812, 0.5609756112098694]\n"
     ]
    }
   ],
   "source": [
    "# Aplicando ao Modelo Final\n",
    "hypermodel = tuner.hypermodel.build(best_hps)\n",
    "\n",
    "# Retrain the model\n",
    "hypermodel.fit(np.asarray(X_train).astype(np.float32), np.asarray(y_train).astype(np.float32),\n",
    "               batch_size=64,\n",
    "               epochs=best_epoch,\n",
    "               validation_split=0.2)\n",
    "\n",
    "eval_result = hypermodel.evaluate(np.asarray(X_test).astype(np.float32), np.asarray(y_test).astype(np.float32))\n",
    "print(\"[test loss, test accuracy]:\", eval_result)"
   ],
   "metadata": {
    "collapsed": false,
    "pycharm": {
     "name": "#%%\n"
    }
   }
  },
  {
   "cell_type": "code",
   "execution_count": 86,
   "outputs": [
    {
     "name": "stdout",
     "output_type": "stream",
     "text": [
      "WARNING:tensorflow:6 out of the last 11 calls to <function Model.make_predict_function.<locals>.predict_function at 0x00000231F5D2EC10> triggered tf.function retracing. Tracing is expensive and the excessive number of tracings could be due to (1) creating @tf.function repeatedly in a loop, (2) passing tensors with different shapes, (3) passing Python objects instead of tensors. For (1), please define your @tf.function outside of the loop. For (2), @tf.function has experimental_relax_shapes=True option that relaxes argument shapes that can avoid unnecessary retracing. For (3), please refer to https://www.tensorflow.org/guide/function#controlling_retracing and https://www.tensorflow.org/api_docs/python/tf/function for  more details.\n"
     ]
    }
   ],
   "source": [
    "y_pred = model.predict(np.asarray(X_test).astype(np.float32)) > 0.5"
   ],
   "metadata": {
    "collapsed": false,
    "pycharm": {
     "name": "#%%\n"
    }
   }
  },
  {
   "cell_type": "code",
   "execution_count": 87,
   "outputs": [
    {
     "data": {
      "text/plain": "            Predição: Não  Predição: Sim\nAtual: Não             17              1\nAtual: Sim              4             19",
      "text/html": "<div>\n<style scoped>\n    .dataframe tbody tr th:only-of-type {\n        vertical-align: middle;\n    }\n\n    .dataframe tbody tr th {\n        vertical-align: top;\n    }\n\n    .dataframe thead th {\n        text-align: right;\n    }\n</style>\n<table border=\"1\" class=\"dataframe\">\n  <thead>\n    <tr style=\"text-align: right;\">\n      <th></th>\n      <th>Predição: Não</th>\n      <th>Predição: Sim</th>\n    </tr>\n  </thead>\n  <tbody>\n    <tr>\n      <th>Atual: Não</th>\n      <td>17</td>\n      <td>1</td>\n    </tr>\n    <tr>\n      <th>Atual: Sim</th>\n      <td>4</td>\n      <td>19</td>\n    </tr>\n  </tbody>\n</table>\n</div>"
     },
     "metadata": {},
     "output_type": "display_data"
    },
    {
     "data": {
      "text/plain": "              precision    recall  f1-score    support\n0.0            0.809524  0.944444  0.871795  18.000000\n1.0            0.950000  0.826087  0.883721  23.000000\naccuracy       0.878049  0.878049  0.878049   0.878049\nmacro avg      0.879762  0.885266  0.877758  41.000000\nweighted avg   0.888328  0.878049  0.878485  41.000000",
      "text/html": "<div>\n<style scoped>\n    .dataframe tbody tr th:only-of-type {\n        vertical-align: middle;\n    }\n\n    .dataframe tbody tr th {\n        vertical-align: top;\n    }\n\n    .dataframe thead th {\n        text-align: right;\n    }\n</style>\n<table border=\"1\" class=\"dataframe\">\n  <thead>\n    <tr style=\"text-align: right;\">\n      <th></th>\n      <th>precision</th>\n      <th>recall</th>\n      <th>f1-score</th>\n      <th>support</th>\n    </tr>\n  </thead>\n  <tbody>\n    <tr>\n      <th>0.0</th>\n      <td>0.809524</td>\n      <td>0.944444</td>\n      <td>0.871795</td>\n      <td>18.000000</td>\n    </tr>\n    <tr>\n      <th>1.0</th>\n      <td>0.950000</td>\n      <td>0.826087</td>\n      <td>0.883721</td>\n      <td>23.000000</td>\n    </tr>\n    <tr>\n      <th>accuracy</th>\n      <td>0.878049</td>\n      <td>0.878049</td>\n      <td>0.878049</td>\n      <td>0.878049</td>\n    </tr>\n    <tr>\n      <th>macro avg</th>\n      <td>0.879762</td>\n      <td>0.885266</td>\n      <td>0.877758</td>\n      <td>41.000000</td>\n    </tr>\n    <tr>\n      <th>weighted avg</th>\n      <td>0.888328</td>\n      <td>0.878049</td>\n      <td>0.878485</td>\n      <td>41.000000</td>\n    </tr>\n  </tbody>\n</table>\n</div>"
     },
     "metadata": {},
     "output_type": "display_data"
    },
    {
     "name": "stdout",
     "output_type": "stream",
     "text": [
      "Acuracidade: 87.8 %\n"
     ]
    }
   ],
   "source": [
    "print_results(np.asarray(y_test).astype(np.float32),y_pred)"
   ],
   "metadata": {
    "collapsed": false,
    "pycharm": {
     "name": "#%%\n"
    }
   }
  },
  {
   "cell_type": "code",
   "execution_count": 88,
   "outputs": [
    {
     "data": {
      "text/plain": "       loss  binary_accuracy  val_loss  val_binary_accuracy\n0  3.896898         0.540541  6.295829             0.315789\n1  3.559238         0.513514  3.589431             0.368421\n2  1.411616         0.594595  0.653161             0.736842\n3  2.836223         0.675676  0.494863             0.789474\n4  0.930864         0.702703  0.656728             0.684211",
      "text/html": "<div>\n<style scoped>\n    .dataframe tbody tr th:only-of-type {\n        vertical-align: middle;\n    }\n\n    .dataframe tbody tr th {\n        vertical-align: top;\n    }\n\n    .dataframe thead th {\n        text-align: right;\n    }\n</style>\n<table border=\"1\" class=\"dataframe\">\n  <thead>\n    <tr style=\"text-align: right;\">\n      <th></th>\n      <th>loss</th>\n      <th>binary_accuracy</th>\n      <th>val_loss</th>\n      <th>val_binary_accuracy</th>\n    </tr>\n  </thead>\n  <tbody>\n    <tr>\n      <th>0</th>\n      <td>3.896898</td>\n      <td>0.540541</td>\n      <td>6.295829</td>\n      <td>0.315789</td>\n    </tr>\n    <tr>\n      <th>1</th>\n      <td>3.559238</td>\n      <td>0.513514</td>\n      <td>3.589431</td>\n      <td>0.368421</td>\n    </tr>\n    <tr>\n      <th>2</th>\n      <td>1.411616</td>\n      <td>0.594595</td>\n      <td>0.653161</td>\n      <td>0.736842</td>\n    </tr>\n    <tr>\n      <th>3</th>\n      <td>2.836223</td>\n      <td>0.675676</td>\n      <td>0.494863</td>\n      <td>0.789474</td>\n    </tr>\n    <tr>\n      <th>4</th>\n      <td>0.930864</td>\n      <td>0.702703</td>\n      <td>0.656728</td>\n      <td>0.684211</td>\n    </tr>\n  </tbody>\n</table>\n</div>"
     },
     "metadata": {},
     "output_type": "display_data"
    },
    {
     "name": "stdout",
     "output_type": "stream",
     "text": [
      "Best Validation Loss: 0.3265\n",
      "Best Validation Accuracy: 0.8947\n"
     ]
    },
    {
     "data": {
      "text/plain": "<Figure size 432x288 with 1 Axes>",
      "image/png": "[encoded data removed]"
     },
     "metadata": {
      "needs_background": "light"
     },
     "output_type": "display_data"
    },
    {
     "data": {
      "text/plain": "<Figure size 432x288 with 1 Axes>",
      "image/png": "[encoded data removed]"
     },
     "metadata": {
      "needs_background": "light"
     },
     "output_type": "display_data"
    }
   ],
   "source": [
    "display_hist(history)"
   ],
   "metadata": {
    "collapsed": false,
    "pycharm": {
     "name": "#%%\n"
    }
   }
  },
  {
   "cell_type": "markdown",
   "source": [
    "### Conclusão\n",
    "\n",
    "O Modelo apresentou um desempenho *superior* ao outro modelo treinado manualmente."
   ],
   "metadata": {
    "collapsed": false
   }
  },
  {
   "cell_type": "markdown",
   "source": [
    "Local do Respositório: https://github.com/willianpina/Deep_Learning_Estudos/blob/main/Trilha%20_8_-_%20Deep%20Learning%20_-_Ajustado.ipynb"
   ],
   "metadata": {
    "collapsed": false,
    "pycharm": {
     "name": "#%% md\n"
    }
   }
  }
 ],
 "metadata": {
  "kernelspec": {
   "display_name": "Python 3 (ipykernel)",
   "language": "python",
   "name": "python3"
  },
  "language_info": {
   "codemirror_mode": {
    "name": "ipython",
    "version": 3
   },
   "file_extension": ".py",
   "mimetype": "text/x-python",
   "name": "python",
   "nbconvert_exporter": "python",
   "pygments_lexer": "ipython3",
   "version": "3.9.5"
  }
 },
 "nbformat": 4,
 "nbformat_minor": 1
}