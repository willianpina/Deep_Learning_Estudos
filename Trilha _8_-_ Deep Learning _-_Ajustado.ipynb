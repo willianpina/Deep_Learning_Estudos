{
 "cells": [
  {
   "cell_type": "markdown",
   "metadata": {},
   "source": [
    "# DEEP LEARNING [TURMA 01B] - 2021/2\n",
    "## Trilha 8: Tarefa (Peso 3)"
   ]
  },
  {
   "cell_type": "code",
   "execution_count": 785,
   "metadata": {
    "collapsed": true
   },
   "outputs": [],
   "source": [
    "import matplotlib.pyplot as plt\n",
    "import numpy as np\n",
    "import pandas as pd\n",
    "from imblearn.over_sampling import RandomOverSampler\n",
    "from sklearn.model_selection import train_test_split\n",
    "from IPython.display import display\n",
    "from tensorflow import keras\n",
    "from tensorflow.keras import layers\n",
    "import tensorflow as tf\n",
    "\n",
    "columns = ['CLASS', 'AGE','SEX','STEROID', 'ANTIVIRALS', 'FATIGUE', 'MALAISE','ANOREXIA','LIVER BIG', 'LIVER FIRM',\n",
    "           'SPLEEN PALPABLE', 'SPIDERS','ASCITES','VARICES', 'BILIRUBIN', 'ALK_PHOSPHATE', 'SGOT','ALBUMIN', 'PROTOTIPE','HISTOLOGY']\n",
    "dados = pd.read_csv(r'D:\\Python_Estudos\\Estudos de Python\\hepatitis.data', header=None)\n",
    "dados.columns=columns"
   ]
  },
  {
   "cell_type": "code",
   "execution_count": 786,
   "metadata": {
    "pycharm": {
     "name": "#%%\n"
    }
   },
   "outputs": [],
   "source": [
    "# tratando os dados\n",
    "\n",
    "dados.replace('?', np.nan,inplace=True)\n",
    "dados.dropna(inplace=True)\n",
    "\n",
    "# Trocando os valores de Class para 0 e 1.\n",
    "dados['CLASS'] = dados.CLASS.map({1:0,2:1})"
   ]
  },
  {
   "cell_type": "code",
   "execution_count": 787,
   "metadata": {
    "pycharm": {
     "name": "#%%\n"
    }
   },
   "outputs": [
    {
     "data": {
      "text/plain": "    CLASS  AGE  SEX STEROID  ANTIVIRALS FATIGUE MALAISE ANOREXIA LIVER BIG  \\\n5       1   34    1       2           2       2       2        2         2   \n10      1   39    1       1           1       2       2        2         1   \n11      1   32    1       2           1       1       2        2         2   \n12      1   41    1       2           1       1       2        2         2   \n13      1   30    1       2           2       1       2        2         2   \n\n   LIVER FIRM SPLEEN PALPABLE SPIDERS ASCITES VARICES BILIRUBIN ALK_PHOSPHATE  \\\n5           2               2       2       2       2      0.90            95   \n10          1               2       2       2       2      1.30            78   \n11          1               2       1       2       2      1.00            59   \n12          1               2       2       2       2      0.90            81   \n13          1               2       2       2       2      2.20            57   \n\n   SGOT ALBUMIN PROTOTIPE  HISTOLOGY  \n5    28     4.0        75          1  \n10   30     4.4        85          1  \n11  249     3.7        54          1  \n12   60     3.9        52          1  \n13  144     4.9        78          1  ",
      "text/html": "<div>\n<style scoped>\n    .dataframe tbody tr th:only-of-type {\n        vertical-align: middle;\n    }\n\n    .dataframe tbody tr th {\n        vertical-align: top;\n    }\n\n    .dataframe thead th {\n        text-align: right;\n    }\n</style>\n<table border=\"1\" class=\"dataframe\">\n  <thead>\n    <tr style=\"text-align: right;\">\n      <th></th>\n      <th>CLASS</th>\n      <th>AGE</th>\n      <th>SEX</th>\n      <th>STEROID</th>\n      <th>ANTIVIRALS</th>\n      <th>FATIGUE</th>\n      <th>MALAISE</th>\n      <th>ANOREXIA</th>\n      <th>LIVER BIG</th>\n      <th>LIVER FIRM</th>\n      <th>SPLEEN PALPABLE</th>\n      <th>SPIDERS</th>\n      <th>ASCITES</th>\n      <th>VARICES</th>\n      <th>BILIRUBIN</th>\n      <th>ALK_PHOSPHATE</th>\n      <th>SGOT</th>\n      <th>ALBUMIN</th>\n      <th>PROTOTIPE</th>\n      <th>HISTOLOGY</th>\n    </tr>\n  </thead>\n  <tbody>\n    <tr>\n      <th>5</th>\n      <td>1</td>\n      <td>34</td>\n      <td>1</td>\n      <td>2</td>\n      <td>2</td>\n      <td>2</td>\n      <td>2</td>\n      <td>2</td>\n      <td>2</td>\n      <td>2</td>\n      <td>2</td>\n      <td>2</td>\n      <td>2</td>\n      <td>2</td>\n      <td>0.90</td>\n      <td>95</td>\n      <td>28</td>\n      <td>4.0</td>\n      <td>75</td>\n      <td>1</td>\n    </tr>\n    <tr>\n      <th>10</th>\n      <td>1</td>\n      <td>39</td>\n      <td>1</td>\n      <td>1</td>\n      <td>1</td>\n      <td>2</td>\n      <td>2</td>\n      <td>2</td>\n      <td>1</td>\n      <td>1</td>\n      <td>2</td>\n      <td>2</td>\n      <td>2</td>\n      <td>2</td>\n      <td>1.30</td>\n      <td>78</td>\n      <td>30</td>\n      <td>4.4</td>\n      <td>85</td>\n      <td>1</td>\n    </tr>\n    <tr>\n      <th>11</th>\n      <td>1</td>\n      <td>32</td>\n      <td>1</td>\n      <td>2</td>\n      <td>1</td>\n      <td>1</td>\n      <td>2</td>\n      <td>2</td>\n      <td>2</td>\n      <td>1</td>\n      <td>2</td>\n      <td>1</td>\n      <td>2</td>\n      <td>2</td>\n      <td>1.00</td>\n      <td>59</td>\n      <td>249</td>\n      <td>3.7</td>\n      <td>54</td>\n      <td>1</td>\n    </tr>\n    <tr>\n      <th>12</th>\n      <td>1</td>\n      <td>41</td>\n      <td>1</td>\n      <td>2</td>\n      <td>1</td>\n      <td>1</td>\n      <td>2</td>\n      <td>2</td>\n      <td>2</td>\n      <td>1</td>\n      <td>2</td>\n      <td>2</td>\n      <td>2</td>\n      <td>2</td>\n      <td>0.90</td>\n      <td>81</td>\n      <td>60</td>\n      <td>3.9</td>\n      <td>52</td>\n      <td>1</td>\n    </tr>\n    <tr>\n      <th>13</th>\n      <td>1</td>\n      <td>30</td>\n      <td>1</td>\n      <td>2</td>\n      <td>2</td>\n      <td>1</td>\n      <td>2</td>\n      <td>2</td>\n      <td>2</td>\n      <td>1</td>\n      <td>2</td>\n      <td>2</td>\n      <td>2</td>\n      <td>2</td>\n      <td>2.20</td>\n      <td>57</td>\n      <td>144</td>\n      <td>4.9</td>\n      <td>78</td>\n      <td>1</td>\n    </tr>\n  </tbody>\n</table>\n</div>"
     },
     "execution_count": 787,
     "metadata": {},
     "output_type": "execute_result"
    }
   ],
   "source": [
    "# Expondo como ficou o tratamento dos dados\n",
    "dados.head()"
   ]
  },
  {
   "cell_type": "code",
   "execution_count": 788,
   "metadata": {
    "pycharm": {
     "name": "#%%\n"
    }
   },
   "outputs": [
    {
     "data": {
      "text/plain": "(80, 20)"
     },
     "execution_count": 788,
     "metadata": {},
     "output_type": "execute_result"
    }
   ],
   "source": [
    "# Avaliando o Shape dos Dados\n",
    "dados.shape"
   ]
  },
  {
   "cell_type": "code",
   "execution_count": 789,
   "metadata": {
    "pycharm": {
     "name": "#%%\n"
    }
   },
   "outputs": [
    {
     "data": {
      "text/plain": "<Figure size 864x360 with 1 Axes>",
      "image/png": "[encoded data removed]"
     },
     "metadata": {
      "needs_background": "light"
     },
     "output_type": "display_data"
    }
   ],
   "source": [
    "# Verificando o Balanceamento do DATASET\n",
    "plt.figure(figsize=(12,5))\n",
    "plt.ylabel(\"Quantidade de Valores\", fontsize=15, fontweight='bold')\n",
    "plt.xlabel(\"Classes\", fontsize=15, fontweight='bold')\n",
    "dados['CLASS'].value_counts().plot(kind='bar')\n",
    "plt.show()"
   ]
  },
  {
   "cell_type": "code",
   "execution_count": 790,
   "metadata": {
    "pycharm": {
     "name": "#%%\n"
    }
   },
   "outputs": [],
   "source": [
    "# Resolvendo esse problema de desbalanceamento com a técnica OVER-SAMPLING\n",
    "\n",
    "ros = RandomOverSampler(random_state=123)\n",
    "\n",
    "X_resample, y_resample = ros.fit_resample(dados.drop(labels=['CLASS'],axis=1),dados['CLASS'])\n",
    "\n",
    "# Concatenando os dados Resampleados com OverSample\n",
    "dados_resample = pd.concat([X_resample,y_resample],axis=1)"
   ]
  },
  {
   "cell_type": "code",
   "execution_count": 791,
   "metadata": {
    "pycharm": {
     "name": "#%%\n"
    }
   },
   "outputs": [
    {
     "name": "stdout",
     "output_type": "stream",
     "text": [
      "Os dados anteriores tinham 80 linhas e 20 colunas.\n",
      "Os dados modificados têm 134 linhas e 20 colunas.\n"
     ]
    }
   ],
   "source": [
    "# Verificando o Shape dos dados antigos e Novos\n",
    "print(f\"Os dados anteriores tinham {dados.shape[0]} linhas e {dados.shape[1]} colunas.\")\n",
    "print(f\"Os dados modificados têm {dados_resample.shape[0]} linhas e {dados_resample.shape[1]} colunas.\")"
   ]
  },
  {
   "cell_type": "code",
   "execution_count": 792,
   "metadata": {
    "pycharm": {
     "name": "#%%\n"
    }
   },
   "outputs": [
    {
     "data": {
      "text/plain": "<Figure size 864x360 with 1 Axes>",
      "image/png": "[encoded data removed]"
     },
     "metadata": {
      "needs_background": "light"
     },
     "output_type": "display_data"
    }
   ],
   "source": [
    "# Verificando o Balanceamento do DATASET após as modificações\n",
    "plt.figure(figsize=(12,5))\n",
    "plt.ylabel(\"Quantidade de Valores\", fontsize=15, fontweight='bold')\n",
    "plt.xlabel(\"Classes\", fontsize=15, fontweight='bold')\n",
    "dados_resample['CLASS'].value_counts().plot(kind='bar')\n",
    "plt.show()"
   ]
  },
  {
   "cell_type": "markdown",
   "metadata": {
    "pycharm": {
     "name": "#%% md\n"
    }
   },
   "source": [
    "## MODELO DEEP LEARNING"
   ]
  },
  {
   "cell_type": "markdown",
   "metadata": {},
   "source": [
    "### Preparando os dados"
   ]
  },
  {
   "cell_type": "code",
   "execution_count": 793,
   "metadata": {
    "pycharm": {
     "name": "#%%\n"
    }
   },
   "outputs": [
    {
     "data": {
      "text/plain": "     AGE  SEX STEROID  ANTIVIRALS FATIGUE MALAISE ANOREXIA LIVER BIG  \\\n100   39    1       1           1       1       1        2         2   \n74    47    1       2           2       1       1        2         2   \n102   59    1       1           2       1       1        2         2   \n65    34    2       2           2       1       1        1         1   \n21    35    1       2           2       1       2        2         2   \n\n    LIVER FIRM SPLEEN PALPABLE SPIDERS ASCITES VARICES BILIRUBIN  \\\n100          1               2       2       2       2      2.30   \n74           1               2       1       1       1      1.00   \n102          1               1       1       2       2      1.50   \n65           1               2       1       2       2      0.70   \n21           2               2       2       2       2      0.90   \n\n    ALK_PHOSPHATE SGOT ALBUMIN PROTOTIPE  HISTOLOGY  \n100           280   98     3.8        40          1  \n74            166   30     2.6        31          2  \n102           107  157     3.6        38          2  \n65             70   24     4.1       100          2  \n21             58   92     4.3        73          1  ",
      "text/html": "<div>\n<style scoped>\n    .dataframe tbody tr th:only-of-type {\n        vertical-align: middle;\n    }\n\n    .dataframe tbody tr th {\n        vertical-align: top;\n    }\n\n    .dataframe thead th {\n        text-align: right;\n    }\n</style>\n<table border=\"1\" class=\"dataframe\">\n  <thead>\n    <tr style=\"text-align: right;\">\n      <th></th>\n      <th>AGE</th>\n      <th>SEX</th>\n      <th>STEROID</th>\n      <th>ANTIVIRALS</th>\n      <th>FATIGUE</th>\n      <th>MALAISE</th>\n      <th>ANOREXIA</th>\n      <th>LIVER BIG</th>\n      <th>LIVER FIRM</th>\n      <th>SPLEEN PALPABLE</th>\n      <th>SPIDERS</th>\n      <th>ASCITES</th>\n      <th>VARICES</th>\n      <th>BILIRUBIN</th>\n      <th>ALK_PHOSPHATE</th>\n      <th>SGOT</th>\n      <th>ALBUMIN</th>\n      <th>PROTOTIPE</th>\n      <th>HISTOLOGY</th>\n    </tr>\n  </thead>\n  <tbody>\n    <tr>\n      <th>100</th>\n      <td>39</td>\n      <td>1</td>\n      <td>1</td>\n      <td>1</td>\n      <td>1</td>\n      <td>1</td>\n      <td>2</td>\n      <td>2</td>\n      <td>1</td>\n      <td>2</td>\n      <td>2</td>\n      <td>2</td>\n      <td>2</td>\n      <td>2.30</td>\n      <td>280</td>\n      <td>98</td>\n      <td>3.8</td>\n      <td>40</td>\n      <td>1</td>\n    </tr>\n    <tr>\n      <th>74</th>\n      <td>47</td>\n      <td>1</td>\n      <td>2</td>\n      <td>2</td>\n      <td>1</td>\n      <td>1</td>\n      <td>2</td>\n      <td>2</td>\n      <td>1</td>\n      <td>2</td>\n      <td>1</td>\n      <td>1</td>\n      <td>1</td>\n      <td>1.00</td>\n      <td>166</td>\n      <td>30</td>\n      <td>2.6</td>\n      <td>31</td>\n      <td>2</td>\n    </tr>\n    <tr>\n      <th>102</th>\n      <td>59</td>\n      <td>1</td>\n      <td>1</td>\n      <td>2</td>\n      <td>1</td>\n      <td>1</td>\n      <td>2</td>\n      <td>2</td>\n      <td>1</td>\n      <td>1</td>\n      <td>1</td>\n      <td>2</td>\n      <td>2</td>\n      <td>1.50</td>\n      <td>107</td>\n      <td>157</td>\n      <td>3.6</td>\n      <td>38</td>\n      <td>2</td>\n    </tr>\n    <tr>\n      <th>65</th>\n      <td>34</td>\n      <td>2</td>\n      <td>2</td>\n      <td>2</td>\n      <td>1</td>\n      <td>1</td>\n      <td>1</td>\n      <td>1</td>\n      <td>1</td>\n      <td>2</td>\n      <td>1</td>\n      <td>2</td>\n      <td>2</td>\n      <td>0.70</td>\n      <td>70</td>\n      <td>24</td>\n      <td>4.1</td>\n      <td>100</td>\n      <td>2</td>\n    </tr>\n    <tr>\n      <th>21</th>\n      <td>35</td>\n      <td>1</td>\n      <td>2</td>\n      <td>2</td>\n      <td>1</td>\n      <td>2</td>\n      <td>2</td>\n      <td>2</td>\n      <td>2</td>\n      <td>2</td>\n      <td>2</td>\n      <td>2</td>\n      <td>2</td>\n      <td>0.90</td>\n      <td>58</td>\n      <td>92</td>\n      <td>4.3</td>\n      <td>73</td>\n      <td>1</td>\n    </tr>\n  </tbody>\n</table>\n</div>"
     },
     "metadata": {},
     "output_type": "display_data"
    },
    {
     "data": {
      "text/plain": "100    0\n74     0\n102    0\n65     1\n21     1\nName: CLASS, dtype: int64"
     },
     "metadata": {},
     "output_type": "display_data"
    }
   ],
   "source": [
    "# Separando os dados de treinamento do Conjunto de Dados Modificado\n",
    "\n",
    "X_train, X_test, y_train, y_test = train_test_split(dados_resample.drop(labels=['CLASS'],axis=1),dados_resample['CLASS'],\n",
    "                                                    test_size=0.3, random_state=123)\n",
    "\n",
    "display(X_train.head())\n",
    "display(y_train.head())"
   ]
  },
  {
   "cell_type": "markdown",
   "metadata": {
    "pycharm": {
     "name": "#%% md\n"
    }
   },
   "source": [
    "### Declarando as camadas"
   ]
  },
  {
   "cell_type": "code",
   "execution_count": 794,
   "metadata": {
    "pycharm": {
     "name": "#%%\n"
    }
   },
   "outputs": [],
   "source": [
    "model = keras.Sequential([\n",
    "    layers.Dense(19, activation='tanh', input_shape=[19]),\n",
    "    layers.Dense(1, activation='tanh'),\n",
    "])"
   ]
  },
  {
   "cell_type": "code",
   "execution_count": 795,
   "metadata": {
    "pycharm": {
     "name": "#%%\n"
    }
   },
   "outputs": [
    {
     "name": "stdout",
     "output_type": "stream",
     "text": [
      "Model: \"sequential_119\"\n",
      "_________________________________________________________________\n",
      " Layer (type)                Output Shape              Param #   \n",
      "=================================================================\n",
      " dense_550 (Dense)           (None, 19)                380       \n",
      "                                                                 \n",
      " dense_551 (Dense)           (None, 1)                 20        \n",
      "                                                                 \n",
      "=================================================================\n",
      "Total params: 400\n",
      "Trainable params: 400\n",
      "Non-trainable params: 0\n",
      "_________________________________________________________________\n"
     ]
    }
   ],
   "source": [
    "model.summary()"
   ]
  },
  {
   "cell_type": "markdown",
   "metadata": {},
   "source": [
    "### Compilando o Modelo"
   ]
  },
  {
   "cell_type": "code",
   "execution_count": 796,
   "metadata": {
    "pycharm": {
     "name": "#%%\n"
    }
   },
   "outputs": [],
   "source": [
    "model.compile(\n",
    "    loss='binary_crossentropy',\n",
    "    metrics=['binary_accuracy'],\n",
    ")"
   ]
  },
  {
   "cell_type": "markdown",
   "metadata": {
    "pycharm": {
     "name": "#%% md\n"
    }
   },
   "source": [
    "### Treinando o Modelo"
   ]
  },
  {
   "cell_type": "code",
   "execution_count": 797,
   "metadata": {
    "pycharm": {
     "name": "#%%\n"
    }
   },
   "outputs": [],
   "source": [
    "history = model.fit(\n",
    "    np.asarray(X_train).astype(np.float32), np.asarray(y_train).astype(np.float32),\n",
    "    batch_size=32,\n",
    "    validation_split=0.3,\n",
    "    epochs=30,\n",
    "    verbose=0,\n",
    ")"
   ]
  },
  {
   "cell_type": "markdown",
   "metadata": {
    "pycharm": {
     "name": "#%% md\n"
    }
   },
   "source": [
    "### Curva de Aprendizado"
   ]
  },
  {
   "cell_type": "code",
   "execution_count": 798,
   "metadata": {
    "pycharm": {
     "name": "#%%\n"
    }
   },
   "outputs": [
    {
     "data": {
      "text/plain": "       loss  binary_accuracy  val_loss  val_binary_accuracy\n0  2.262958         0.323077  2.244814             0.500000\n1  1.840499         0.353846  1.352665             0.535714\n2  1.256395         0.307692  1.279844             0.607143\n3  0.956784         0.384615  1.267597             0.607143\n4  0.934638         0.369231  1.263024             0.642857",
      "text/html": "<div>\n<style scoped>\n    .dataframe tbody tr th:only-of-type {\n        vertical-align: middle;\n    }\n\n    .dataframe tbody tr th {\n        vertical-align: top;\n    }\n\n    .dataframe thead th {\n        text-align: right;\n    }\n</style>\n<table border=\"1\" class=\"dataframe\">\n  <thead>\n    <tr style=\"text-align: right;\">\n      <th></th>\n      <th>loss</th>\n      <th>binary_accuracy</th>\n      <th>val_loss</th>\n      <th>val_binary_accuracy</th>\n    </tr>\n  </thead>\n  <tbody>\n    <tr>\n      <th>0</th>\n      <td>2.262958</td>\n      <td>0.323077</td>\n      <td>2.244814</td>\n      <td>0.500000</td>\n    </tr>\n    <tr>\n      <th>1</th>\n      <td>1.840499</td>\n      <td>0.353846</td>\n      <td>1.352665</td>\n      <td>0.535714</td>\n    </tr>\n    <tr>\n      <th>2</th>\n      <td>1.256395</td>\n      <td>0.307692</td>\n      <td>1.279844</td>\n      <td>0.607143</td>\n    </tr>\n    <tr>\n      <th>3</th>\n      <td>0.956784</td>\n      <td>0.384615</td>\n      <td>1.267597</td>\n      <td>0.607143</td>\n    </tr>\n    <tr>\n      <th>4</th>\n      <td>0.934638</td>\n      <td>0.369231</td>\n      <td>1.263024</td>\n      <td>0.642857</td>\n    </tr>\n  </tbody>\n</table>\n</div>"
     },
     "metadata": {},
     "output_type": "display_data"
    },
    {
     "name": "stdout",
     "output_type": "stream",
     "text": [
      "Best Validation Loss: 0.6689\n",
      "Best Validation Accuracy: 0.6429\n"
     ]
    },
    {
     "data": {
      "text/plain": "<Figure size 432x288 with 1 Axes>",
      "image/png": "[encoded data removed]"
     },
     "metadata": {
      "needs_background": "light"
     },
     "output_type": "display_data"
    },
    {
     "data": {
      "text/plain": "<Figure size 432x288 with 1 Axes>",
      "image/png": "[encoded data removed]"
     },
     "metadata": {
      "needs_background": "light"
     },
     "output_type": "display_data"
    }
   ],
   "source": [
    "def display_hist(history):\n",
    "    history_df = pd.DataFrame(history.history)\n",
    "    display(history_df.head())\n",
    "\n",
    "    # Plotando os Gráficos\n",
    "    history_df.loc[0:, ['loss', 'val_loss']].plot()\n",
    "    history_df.loc[0:,['binary_accuracy', 'val_binary_accuracy']].plot()\n",
    "\n",
    "    print((\"Best Validation Loss: {:0.4f}\" \"\\nBest Validation Accuracy: {:0.4f}\"\\\n",
    "          .format(history_df['val_loss'].min(),\n",
    "                  history_df['val_binary_accuracy'].max())))\n",
    "\n",
    "    return\n",
    "\n",
    "display_hist(history)"
   ]
  },
  {
   "cell_type": "code",
   "execution_count": 799,
   "metadata": {
    "pycharm": {
     "name": "#%%\n"
    }
   },
   "outputs": [],
   "source": [
    "from sklearn.metrics import confusion_matrix, classification_report, accuracy_score\n",
    "\n",
    "def print_results(y_test, y_pred):\n",
    "    mc = pd.DataFrame(confusion_matrix(y_test,y_pred), index=['Atual: Não', 'Atual: Sim'],\n",
    "                      columns=['Predição: Não', 'Predição: Sim'])\n",
    "    display(mc)\n",
    "    class_report = pd.DataFrame(classification_report(y_test,y_pred, output_dict=True)).transpose()\n",
    "    display(class_report)\n",
    "    print(f\"Acuracidade: {round(accuracy_score(y_test,y_pred)* 100,2)} %\")\n",
    "    return"
   ]
  },
  {
   "cell_type": "code",
   "execution_count": 800,
   "metadata": {
    "pycharm": {
     "name": "#%%\n"
    }
   },
   "outputs": [],
   "source": [
    "y_pred = model.predict(np.asarray(X_test).astype(np.float32)) > 0.5"
   ]
  },
  {
   "cell_type": "code",
   "execution_count": 801,
   "metadata": {
    "pycharm": {
     "name": "#%%\n"
    }
   },
   "outputs": [
    {
     "data": {
      "text/plain": "            Predição: Não  Predição: Sim\nAtual: Não             12              6\nAtual: Sim             16              7",
      "text/html": "<div>\n<style scoped>\n    .dataframe tbody tr th:only-of-type {\n        vertical-align: middle;\n    }\n\n    .dataframe tbody tr th {\n        vertical-align: top;\n    }\n\n    .dataframe thead th {\n        text-align: right;\n    }\n</style>\n<table border=\"1\" class=\"dataframe\">\n  <thead>\n    <tr style=\"text-align: right;\">\n      <th></th>\n      <th>Predição: Não</th>\n      <th>Predição: Sim</th>\n    </tr>\n  </thead>\n  <tbody>\n    <tr>\n      <th>Atual: Não</th>\n      <td>12</td>\n      <td>6</td>\n    </tr>\n    <tr>\n      <th>Atual: Sim</th>\n      <td>16</td>\n      <td>7</td>\n    </tr>\n  </tbody>\n</table>\n</div>"
     },
     "metadata": {},
     "output_type": "display_data"
    },
    {
     "data": {
      "text/plain": "              precision    recall  f1-score    support\n0.0            0.428571  0.666667  0.521739  18.000000\n1.0            0.538462  0.304348  0.388889  23.000000\naccuracy       0.463415  0.463415  0.463415   0.463415\nmacro avg      0.483516  0.485507  0.455314  41.000000\nweighted avg   0.490217  0.463415  0.447213  41.000000",
      "text/html": "<div>\n<style scoped>\n    .dataframe tbody tr th:only-of-type {\n        vertical-align: middle;\n    }\n\n    .dataframe tbody tr th {\n        vertical-align: top;\n    }\n\n    .dataframe thead th {\n        text-align: right;\n    }\n</style>\n<table border=\"1\" class=\"dataframe\">\n  <thead>\n    <tr style=\"text-align: right;\">\n      <th></th>\n      <th>precision</th>\n      <th>recall</th>\n      <th>f1-score</th>\n      <th>support</th>\n    </tr>\n  </thead>\n  <tbody>\n    <tr>\n      <th>0.0</th>\n      <td>0.428571</td>\n      <td>0.666667</td>\n      <td>0.521739</td>\n      <td>18.000000</td>\n    </tr>\n    <tr>\n      <th>1.0</th>\n      <td>0.538462</td>\n      <td>0.304348</td>\n      <td>0.388889</td>\n      <td>23.000000</td>\n    </tr>\n    <tr>\n      <th>accuracy</th>\n      <td>0.463415</td>\n      <td>0.463415</td>\n      <td>0.463415</td>\n      <td>0.463415</td>\n    </tr>\n    <tr>\n      <th>macro avg</th>\n      <td>0.483516</td>\n      <td>0.485507</td>\n      <td>0.455314</td>\n      <td>41.000000</td>\n    </tr>\n    <tr>\n      <th>weighted avg</th>\n      <td>0.490217</td>\n      <td>0.463415</td>\n      <td>0.447213</td>\n      <td>41.000000</td>\n    </tr>\n  </tbody>\n</table>\n</div>"
     },
     "metadata": {},
     "output_type": "display_data"
    },
    {
     "name": "stdout",
     "output_type": "stream",
     "text": [
      "Acuracidade: 46.34 %\n"
     ]
    }
   ],
   "source": [
    "print_results(np.asarray(y_test).astype(np.float32),y_pred)"
   ]
  },
  {
   "cell_type": "markdown",
   "source": [
    "## Utilizando o KERAS TUNER"
   ],
   "metadata": {
    "collapsed": false
   }
  },
  {
   "cell_type": "markdown",
   "source": [
    "### Importando a Biblioteca"
   ],
   "metadata": {
    "collapsed": false,
    "pycharm": {
     "name": "#%% md\n"
    }
   }
  },
  {
   "cell_type": "code",
   "execution_count": 802,
   "outputs": [],
   "source": [
    "import keras_tuner as kt"
   ],
   "metadata": {
    "collapsed": false,
    "pycharm": {
     "name": "#%%\n"
    }
   }
  },
  {
   "cell_type": "markdown",
   "source": [
    "### Preparando os dados"
   ],
   "metadata": {
    "collapsed": false,
    "pycharm": {
     "name": "#%% md\n"
    }
   }
  },
  {
   "cell_type": "code",
   "execution_count": 803,
   "outputs": [],
   "source": [
    "# Separando os dados de treinamento do Conjunto de Dados Modificado\n",
    "\n",
    "X_train, X_test, y_train, y_test = train_test_split(dados_resample.drop(labels=['CLASS'],axis=1),dados_resample['CLASS'],\n",
    "                                                    test_size=0.3, random_state=123)"
   ],
   "metadata": {
    "collapsed": false,
    "pycharm": {
     "name": "#%%\n"
    }
   }
  },
  {
   "cell_type": "markdown",
   "source": [
    "### Definindo o Modelo"
   ],
   "metadata": {
    "collapsed": false,
    "pycharm": {
     "name": "#%% md\n"
    }
   }
  },
  {
   "cell_type": "code",
   "execution_count": 804,
   "outputs": [],
   "source": [
    "from keras.layers import Dropout\n",
    "def model_builder(hp):\n",
    "    hp_units_1 = hp.Int('hp_units_1', min_value=4, max_value=128, step=4)\n",
    "    model = keras.Sequential(layers.Dense(units=hp_units_1, activation='tanh', input_shape=[X_train.shape[1]]))\n",
    "\n",
    "    for i in range(hp.Int('num_layers', 2, 6)):\n",
    "        model.add(Dropout(0.20))\n",
    "        model.add(layers.Dense(units=hp.Int('hp_units_' + str(i),\n",
    "                                            min_value=4,\n",
    "                                            max_value=256,\n",
    "                                            step=4),\n",
    "                               activation='elu'))\n",
    "    model.add(layers.Dense(1,activation='tanh'))\n",
    "    hp_learning_rate = hp.Choice('learning_rate', values=[1e-2, 1e-3, 1e-4])\n",
    "    model.compile(keras.optimizers.Adam(learning_rate=hp_learning_rate),\n",
    "                  loss='binary_crossentropy',\n",
    "                  metrics=['binary_accuracy'])\n",
    "    return model"
   ],
   "metadata": {
    "collapsed": false,
    "pycharm": {
     "name": "#%%\n"
    }
   }
  },
  {
   "cell_type": "markdown",
   "source": [
    "## Tunning"
   ],
   "metadata": {
    "collapsed": false,
    "pycharm": {
     "name": "#%% md\n"
    }
   }
  },
  {
   "cell_type": "code",
   "execution_count": 805,
   "outputs": [
    {
     "name": "stdout",
     "output_type": "stream",
     "text": [
      "INFO:tensorflow:Reloading Oracle from existing project .\\untitled_project\\oracle.json\n",
      "INFO:tensorflow:Reloading Tuner from .\\untitled_project\\tuner0.json\n"
     ]
    }
   ],
   "source": [
    "tuner = kt.Hyperband(model_builder,\n",
    "                     objective='val_loss',\n",
    "                     max_epochs=50,\n",
    "                     factor=3,)"
   ],
   "metadata": {
    "collapsed": false,
    "pycharm": {
     "name": "#%%\n"
    }
   }
  },
  {
   "cell_type": "code",
   "execution_count": 806,
   "outputs": [
    {
     "name": "stdout",
     "output_type": "stream",
     "text": [
      "INFO:tensorflow:Oracle triggered exit\n"
     ]
    }
   ],
   "source": [
    "stop_early = tf.keras.callbacks.EarlyStopping(monitor='val-loss', patience=5)\n",
    "tuner.search(np.asarray(X_train).astype(np.float32), np.asarray(y_train).astype(np.float32),\n",
    "             batch_size=64,\n",
    "             epochs=50,\n",
    "             validation_split=0.2,\n",
    "             callbacks=[stop_early])"
   ],
   "metadata": {
    "collapsed": false,
    "pycharm": {
     "name": "#%%\n"
    }
   }
  },
  {
   "cell_type": "code",
   "execution_count": 807,
   "outputs": [],
   "source": [
    "best_hps=tuner.get_best_hyperparameters(num_trials=1)[0]"
   ],
   "metadata": {
    "collapsed": false,
    "pycharm": {
     "name": "#%%\n"
    }
   }
  },
  {
   "cell_type": "code",
   "execution_count": 808,
   "outputs": [
    {
     "name": "stdout",
     "output_type": "stream",
     "text": [
      "\n",
      "The hyperparameter search is complete.\n",
      "\n",
      "The optimal learning rate for the optimizer is 0.001.\n",
      "\n",
      "Best layers units: \n",
      "\n",
      "Layer:  1  ,  252  units\n",
      "Layer:  2  ,  40  units\n",
      "Layer:  3  ,  180  units\n",
      "Layer:  4  ,  92  units\n"
     ]
    }
   ],
   "source": [
    "print(f\"\"\"\n",
    "The hyperparameter search is complete.\n",
    "\n",
    "The optimal learning rate for the optimizer is {best_hps.get('learning_rate')}.\n",
    "\"\"\")\n",
    "\n",
    "print('Best layers units: \\n')\n",
    "for i in range(2,6):\n",
    "    print('Layer: ', i-1, ' , ', best_hps.get('hp_units_' + str(i)), ' units')"
   ],
   "metadata": {
    "collapsed": false,
    "pycharm": {
     "name": "#%%\n"
    }
   }
  },
  {
   "cell_type": "code",
   "execution_count": 809,
   "outputs": [
    {
     "name": "stdout",
     "output_type": "stream",
     "text": [
      "Best epoch: 3\n"
     ]
    }
   ],
   "source": [
    "# Construindo um modelo com os melhores hiperparâmetros\n",
    "model = tuner.hypermodel.build(best_hps)\n",
    "\n",
    "history = model.fit(np.asarray(X_train).astype(np.float32), np.asarray(y_train).astype(np.float32),\n",
    "                    batch_size=64,\n",
    "                    epochs=50,\n",
    "                    validation_split=0.2,\n",
    "                    verbose=0)\n",
    "\n",
    "val_acc_per_epoch = history.history['val_loss']\n",
    "best_epoch = val_acc_per_epoch.index(max(val_acc_per_epoch)) + 1\n",
    "print('Best epoch: %d' % (best_epoch,))"
   ],
   "metadata": {
    "collapsed": false,
    "pycharm": {
     "name": "#%%\n"
    }
   }
  },
  {
   "cell_type": "code",
   "execution_count": 810,
   "outputs": [
    {
     "name": "stdout",
     "output_type": "stream",
     "text": [
      "Epoch 1/3\n",
      "2/2 [==============================] - 0s 92ms/step - loss: 1.5813 - binary_accuracy: 0.5676 - val_loss: 1.3431 - val_binary_accuracy: 0.3158\n",
      "Epoch 2/3\n",
      "2/2 [==============================] - 0s 15ms/step - loss: 0.9725 - binary_accuracy: 0.5000 - val_loss: 1.6640 - val_binary_accuracy: 0.3158\n",
      "Epoch 3/3\n",
      "2/2 [==============================] - 0s 17ms/step - loss: 1.0238 - binary_accuracy: 0.5811 - val_loss: 1.2584 - val_binary_accuracy: 0.3158\n",
      "2/2 [==============================] - 0s 2ms/step - loss: 0.9553 - binary_accuracy: 0.5610\n",
      "[test loss, test accuracy]: [0.955276608467102, 0.5609756112098694]\n"
     ]
    }
   ],
   "source": [
    "# Aplicando ao Modelo Final\n",
    "hypermodel = tuner.hypermodel.build(best_hps)\n",
    "\n",
    "# Retrain the model\n",
    "hypermodel.fit(np.asarray(X_train).astype(np.float32), np.asarray(y_train).astype(np.float32),\n",
    "               batch_size=64,\n",
    "               epochs=best_epoch,\n",
    "               validation_split=0.2)\n",
    "\n",
    "eval_result = hypermodel.evaluate(np.asarray(X_test).astype(np.float32), np.asarray(y_test).astype(np.float32))\n",
    "print(\"[test loss, test accuracy]:\", eval_result)"
   ],
   "metadata": {
    "collapsed": false,
    "pycharm": {
     "name": "#%%\n"
    }
   }
  },
  {
   "cell_type": "code",
   "execution_count": 811,
   "outputs": [],
   "source": [
    "y_pred = model.predict(np.asarray(X_test).astype(np.float32)) > 0.5"
   ],
   "metadata": {
    "collapsed": false,
    "pycharm": {
     "name": "#%%\n"
    }
   }
  },
  {
   "cell_type": "code",
   "execution_count": 812,
   "outputs": [
    {
     "data": {
      "text/plain": "            Predição: Não  Predição: Sim\nAtual: Não             12              6\nAtual: Sim              3             20",
      "text/html": "<div>\n<style scoped>\n    .dataframe tbody tr th:only-of-type {\n        vertical-align: middle;\n    }\n\n    .dataframe tbody tr th {\n        vertical-align: top;\n    }\n\n    .dataframe thead th {\n        text-align: right;\n    }\n</style>\n<table border=\"1\" class=\"dataframe\">\n  <thead>\n    <tr style=\"text-align: right;\">\n      <th></th>\n      <th>Predição: Não</th>\n      <th>Predição: Sim</th>\n    </tr>\n  </thead>\n  <tbody>\n    <tr>\n      <th>Atual: Não</th>\n      <td>12</td>\n      <td>6</td>\n    </tr>\n    <tr>\n      <th>Atual: Sim</th>\n      <td>3</td>\n      <td>20</td>\n    </tr>\n  </tbody>\n</table>\n</div>"
     },
     "metadata": {},
     "output_type": "display_data"
    },
    {
     "data": {
      "text/plain": "              precision    recall  f1-score    support\n0.0            0.800000  0.666667  0.727273  18.000000\n1.0            0.769231  0.869565  0.816327  23.000000\naccuracy       0.780488  0.780488  0.780488   0.780488\nmacro avg      0.784615  0.768116  0.771800  41.000000\nweighted avg   0.782739  0.780488  0.777230  41.000000",
      "text/html": "<div>\n<style scoped>\n    .dataframe tbody tr th:only-of-type {\n        vertical-align: middle;\n    }\n\n    .dataframe tbody tr th {\n        vertical-align: top;\n    }\n\n    .dataframe thead th {\n        text-align: right;\n    }\n</style>\n<table border=\"1\" class=\"dataframe\">\n  <thead>\n    <tr style=\"text-align: right;\">\n      <th></th>\n      <th>precision</th>\n      <th>recall</th>\n      <th>f1-score</th>\n      <th>support</th>\n    </tr>\n  </thead>\n  <tbody>\n    <tr>\n      <th>0.0</th>\n      <td>0.800000</td>\n      <td>0.666667</td>\n      <td>0.727273</td>\n      <td>18.000000</td>\n    </tr>\n    <tr>\n      <th>1.0</th>\n      <td>0.769231</td>\n      <td>0.869565</td>\n      <td>0.816327</td>\n      <td>23.000000</td>\n    </tr>\n    <tr>\n      <th>accuracy</th>\n      <td>0.780488</td>\n      <td>0.780488</td>\n      <td>0.780488</td>\n      <td>0.780488</td>\n    </tr>\n    <tr>\n      <th>macro avg</th>\n      <td>0.784615</td>\n      <td>0.768116</td>\n      <td>0.771800</td>\n      <td>41.000000</td>\n    </tr>\n    <tr>\n      <th>weighted avg</th>\n      <td>0.782739</td>\n      <td>0.780488</td>\n      <td>0.777230</td>\n      <td>41.000000</td>\n    </tr>\n  </tbody>\n</table>\n</div>"
     },
     "metadata": {},
     "output_type": "display_data"
    },
    {
     "name": "stdout",
     "output_type": "stream",
     "text": [
      "Acuracidade: 78.05 %\n"
     ]
    }
   ],
   "source": [
    "print_results(np.asarray(y_test).astype(np.float32),y_pred)"
   ],
   "metadata": {
    "collapsed": false,
    "pycharm": {
     "name": "#%%\n"
    }
   }
  },
  {
   "cell_type": "code",
   "execution_count": 813,
   "outputs": [
    {
     "data": {
      "text/plain": "       loss  binary_accuracy  val_loss  val_binary_accuracy\n0  5.628724         0.472973  0.712013             0.578947\n1  0.996866         0.513514  1.079320             0.315789\n2  0.877702         0.459459  1.317172             0.315789\n3  0.914715         0.540541  1.257319             0.315789\n4  0.979720         0.500000  1.034854             0.315789",
      "text/html": "<div>\n<style scoped>\n    .dataframe tbody tr th:only-of-type {\n        vertical-align: middle;\n    }\n\n    .dataframe tbody tr th {\n        vertical-align: top;\n    }\n\n    .dataframe thead th {\n        text-align: right;\n    }\n</style>\n<table border=\"1\" class=\"dataframe\">\n  <thead>\n    <tr style=\"text-align: right;\">\n      <th></th>\n      <th>loss</th>\n      <th>binary_accuracy</th>\n      <th>val_loss</th>\n      <th>val_binary_accuracy</th>\n    </tr>\n  </thead>\n  <tbody>\n    <tr>\n      <th>0</th>\n      <td>5.628724</td>\n      <td>0.472973</td>\n      <td>0.712013</td>\n      <td>0.578947</td>\n    </tr>\n    <tr>\n      <th>1</th>\n      <td>0.996866</td>\n      <td>0.513514</td>\n      <td>1.079320</td>\n      <td>0.315789</td>\n    </tr>\n    <tr>\n      <th>2</th>\n      <td>0.877702</td>\n      <td>0.459459</td>\n      <td>1.317172</td>\n      <td>0.315789</td>\n    </tr>\n    <tr>\n      <th>3</th>\n      <td>0.914715</td>\n      <td>0.540541</td>\n      <td>1.257319</td>\n      <td>0.315789</td>\n    </tr>\n    <tr>\n      <th>4</th>\n      <td>0.979720</td>\n      <td>0.500000</td>\n      <td>1.034854</td>\n      <td>0.315789</td>\n    </tr>\n  </tbody>\n</table>\n</div>"
     },
     "metadata": {},
     "output_type": "display_data"
    },
    {
     "name": "stdout",
     "output_type": "stream",
     "text": [
      "Best Validation Loss: 0.4161\n",
      "Best Validation Accuracy: 0.8947\n"
     ]
    },
    {
     "data": {
      "text/plain": "<Figure size 432x288 with 1 Axes>",
      "image/png": "[encoded data removed]"
     },
     "metadata": {
      "needs_background": "light"
     },
     "output_type": "display_data"
    },
    {
     "data": {
      "text/plain": "<Figure size 432x288 with 1 Axes>",
      "image/png": "[encoded data removed]"
     },
     "metadata": {
      "needs_background": "light"
     },
     "output_type": "display_data"
    }
   ],
   "source": [
    "display_hist(history)"
   ],
   "metadata": {
    "collapsed": false,
    "pycharm": {
     "name": "#%%\n"
    }
   }
  },
  {
   "cell_type": "markdown",
   "source": [
    "### Conclusão\n",
    "\n",
    "O Modelo apresentou um desempenho *superior* ao outro modelo treinado manualmente."
   ],
   "metadata": {
    "collapsed": false
   }
  },
  {
   "cell_type": "markdown",
   "source": [
    "Local do Respositório: https://github.com/willianpina/Deep_Learning_Estudos/blob/main/Trilha%208%20-%20Deep%20Learning%20-%20Ajustado.ipynb"
   ],
   "metadata": {
    "collapsed": false,
    "pycharm": {
     "name": "#%% md\n"
    }
   }
  }
 ],
 "metadata": {
  "kernelspec": {
   "display_name": "Python 3 (ipykernel)",
   "language": "python",
   "name": "python3"
  },
  "language_info": {
   "codemirror_mode": {
    "name": "ipython",
    "version": 3
   },
   "file_extension": ".py",
   "mimetype": "text/x-python",
   "name": "python",
   "nbconvert_exporter": "python",
   "pygments_lexer": "ipython3",
   "version": "3.9.5"
  }
 },
 "nbformat": 4,
 "nbformat_minor": 1
}