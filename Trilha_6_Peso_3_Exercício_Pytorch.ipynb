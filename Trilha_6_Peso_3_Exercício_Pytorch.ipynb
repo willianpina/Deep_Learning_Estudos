{
 "cells": [
  {
   "cell_type": "markdown",
   "metadata": {
    "collapsed": true,
    "pycharm": {
     "name": "#%% md\n"
    }
   },
   "source": [
    "# **Trilha 6: Deep Learning**\n",
    "## Assunto: Modelos Sequenciais com *Pytorch*\n",
    "## Aluno: Willian Pina\n"
   ]
  },
  {
   "cell_type": "code",
   "execution_count": 265,
   "metadata": {},
   "outputs": [],
   "source": [
    "# Importando as bibliotecas\n",
    "import numpy as np\n",
    "import pandas as pd\n",
    "import matplotlib.pyplot as plt\n",
    "import seaborn as sns\n",
    "from imblearn.over_sampling import RandomOverSampler\n",
    "from sklearn.model_selection import train_test_split\n",
    "from sklearn.metrics import confusion_matrix, classification_report, accuracy_score\n",
    "from IPython.display import display\n",
    "\n",
    "\n",
    "import torch\n",
    "import torch.nn as nn\n",
    "from torch.autograd import Variable"
   ]
  },
  {
   "cell_type": "code",
   "execution_count": 266,
   "metadata": {},
   "outputs": [
    {
     "data": {
      "text/html": [
       "<div>\n",
       "<style scoped>\n",
       "    .dataframe tbody tr th:only-of-type {\n",
       "        vertical-align: middle;\n",
       "    }\n",
       "\n",
       "    .dataframe tbody tr th {\n",
       "        vertical-align: top;\n",
       "    }\n",
       "\n",
       "    .dataframe thead th {\n",
       "        text-align: right;\n",
       "    }\n",
       "</style>\n",
       "<table border=\"1\" class=\"dataframe\">\n",
       "  <thead>\n",
       "    <tr style=\"text-align: right;\">\n",
       "      <th></th>\n",
       "      <th>CLASS</th>\n",
       "      <th>AGE</th>\n",
       "      <th>SEX</th>\n",
       "      <th>STEROID</th>\n",
       "      <th>ANTIVIRALS</th>\n",
       "      <th>FATIGUE</th>\n",
       "      <th>MALAISE</th>\n",
       "      <th>ANOREXIA</th>\n",
       "      <th>LIVER BIG</th>\n",
       "      <th>LIVER FIRM</th>\n",
       "      <th>SPLEEN PALPABLE</th>\n",
       "      <th>SPIDERS</th>\n",
       "      <th>ASCITES</th>\n",
       "      <th>VARICES</th>\n",
       "      <th>BILIRUBIN</th>\n",
       "      <th>ALK_PHOSPHATE</th>\n",
       "      <th>SGOT</th>\n",
       "      <th>ALBUMIN</th>\n",
       "      <th>PROTOTIPE</th>\n",
       "      <th>HISTOLOGY</th>\n",
       "    </tr>\n",
       "  </thead>\n",
       "  <tbody>\n",
       "    <tr>\n",
       "      <th>5</th>\n",
       "      <td>1.0</td>\n",
       "      <td>34.0</td>\n",
       "      <td>1.0</td>\n",
       "      <td>2.0</td>\n",
       "      <td>2.0</td>\n",
       "      <td>2.0</td>\n",
       "      <td>2.0</td>\n",
       "      <td>2.0</td>\n",
       "      <td>2.0</td>\n",
       "      <td>2.0</td>\n",
       "      <td>2.0</td>\n",
       "      <td>2.0</td>\n",
       "      <td>2.0</td>\n",
       "      <td>2.0</td>\n",
       "      <td>0.9</td>\n",
       "      <td>95.0</td>\n",
       "      <td>28.0</td>\n",
       "      <td>4.0</td>\n",
       "      <td>75.0</td>\n",
       "      <td>1.0</td>\n",
       "    </tr>\n",
       "    <tr>\n",
       "      <th>10</th>\n",
       "      <td>1.0</td>\n",
       "      <td>39.0</td>\n",
       "      <td>1.0</td>\n",
       "      <td>1.0</td>\n",
       "      <td>1.0</td>\n",
       "      <td>2.0</td>\n",
       "      <td>2.0</td>\n",
       "      <td>2.0</td>\n",
       "      <td>1.0</td>\n",
       "      <td>1.0</td>\n",
       "      <td>2.0</td>\n",
       "      <td>2.0</td>\n",
       "      <td>2.0</td>\n",
       "      <td>2.0</td>\n",
       "      <td>1.3</td>\n",
       "      <td>78.0</td>\n",
       "      <td>30.0</td>\n",
       "      <td>4.4</td>\n",
       "      <td>85.0</td>\n",
       "      <td>1.0</td>\n",
       "    </tr>\n",
       "    <tr>\n",
       "      <th>11</th>\n",
       "      <td>1.0</td>\n",
       "      <td>32.0</td>\n",
       "      <td>1.0</td>\n",
       "      <td>2.0</td>\n",
       "      <td>1.0</td>\n",
       "      <td>1.0</td>\n",
       "      <td>2.0</td>\n",
       "      <td>2.0</td>\n",
       "      <td>2.0</td>\n",
       "      <td>1.0</td>\n",
       "      <td>2.0</td>\n",
       "      <td>1.0</td>\n",
       "      <td>2.0</td>\n",
       "      <td>2.0</td>\n",
       "      <td>1.0</td>\n",
       "      <td>59.0</td>\n",
       "      <td>249.0</td>\n",
       "      <td>3.7</td>\n",
       "      <td>54.0</td>\n",
       "      <td>1.0</td>\n",
       "    </tr>\n",
       "    <tr>\n",
       "      <th>12</th>\n",
       "      <td>1.0</td>\n",
       "      <td>41.0</td>\n",
       "      <td>1.0</td>\n",
       "      <td>2.0</td>\n",
       "      <td>1.0</td>\n",
       "      <td>1.0</td>\n",
       "      <td>2.0</td>\n",
       "      <td>2.0</td>\n",
       "      <td>2.0</td>\n",
       "      <td>1.0</td>\n",
       "      <td>2.0</td>\n",
       "      <td>2.0</td>\n",
       "      <td>2.0</td>\n",
       "      <td>2.0</td>\n",
       "      <td>0.9</td>\n",
       "      <td>81.0</td>\n",
       "      <td>60.0</td>\n",
       "      <td>3.9</td>\n",
       "      <td>52.0</td>\n",
       "      <td>1.0</td>\n",
       "    </tr>\n",
       "    <tr>\n",
       "      <th>13</th>\n",
       "      <td>1.0</td>\n",
       "      <td>30.0</td>\n",
       "      <td>1.0</td>\n",
       "      <td>2.0</td>\n",
       "      <td>2.0</td>\n",
       "      <td>1.0</td>\n",
       "      <td>2.0</td>\n",
       "      <td>2.0</td>\n",
       "      <td>2.0</td>\n",
       "      <td>1.0</td>\n",
       "      <td>2.0</td>\n",
       "      <td>2.0</td>\n",
       "      <td>2.0</td>\n",
       "      <td>2.0</td>\n",
       "      <td>2.2</td>\n",
       "      <td>57.0</td>\n",
       "      <td>144.0</td>\n",
       "      <td>4.9</td>\n",
       "      <td>78.0</td>\n",
       "      <td>1.0</td>\n",
       "    </tr>\n",
       "  </tbody>\n",
       "</table>\n",
       "</div>"
      ],
      "text/plain": [
       "    CLASS   AGE  SEX  STEROID  ANTIVIRALS  FATIGUE  MALAISE  ANOREXIA  \\\n",
       "5     1.0  34.0  1.0      2.0         2.0      2.0      2.0       2.0   \n",
       "10    1.0  39.0  1.0      1.0         1.0      2.0      2.0       2.0   \n",
       "11    1.0  32.0  1.0      2.0         1.0      1.0      2.0       2.0   \n",
       "12    1.0  41.0  1.0      2.0         1.0      1.0      2.0       2.0   \n",
       "13    1.0  30.0  1.0      2.0         2.0      1.0      2.0       2.0   \n",
       "\n",
       "    LIVER BIG  LIVER FIRM  SPLEEN PALPABLE  SPIDERS  ASCITES  VARICES  \\\n",
       "5         2.0         2.0              2.0      2.0      2.0      2.0   \n",
       "10        1.0         1.0              2.0      2.0      2.0      2.0   \n",
       "11        2.0         1.0              2.0      1.0      2.0      2.0   \n",
       "12        2.0         1.0              2.0      2.0      2.0      2.0   \n",
       "13        2.0         1.0              2.0      2.0      2.0      2.0   \n",
       "\n",
       "    BILIRUBIN  ALK_PHOSPHATE   SGOT  ALBUMIN   PROTOTIPE  HISTOLOGY  \n",
       "5         0.9           95.0   28.0      4.0        75.0        1.0  \n",
       "10        1.3           78.0   30.0      4.4        85.0        1.0  \n",
       "11        1.0           59.0  249.0      3.7        54.0        1.0  \n",
       "12        0.9           81.0   60.0      3.9        52.0        1.0  \n",
       "13        2.2           57.0  144.0      4.9        78.0        1.0  "
      ]
     },
     "execution_count": 266,
     "metadata": {},
     "output_type": "execute_result"
    }
   ],
   "source": [
    "columns = ['CLASS', 'AGE', 'SEX', 'STEROID', 'ANTIVIRALS', 'FATIGUE', 'MALAISE',\n",
    "          'ANOREXIA', 'LIVER BIG', 'LIVER FIRM', 'SPLEEN PALPABLE', 'SPIDERS', \n",
    "          'ASCITES','VARICES', 'BILIRUBIN', 'ALK_PHOSPHATE', 'SGOT', 'ALBUMIN', ' PROTOTIPE',\n",
    "          'HISTOLOGY']\n",
    "dados = pd.read_csv('hepatitis.data', header=None)\n",
    "dados.columns=columns\n",
    "\n",
    "# Tratando os dados\n",
    "dados.replace('?', np.nan, inplace=True)\n",
    "dados.dropna(inplace=True)\n",
    "\n",
    "# Trocando os valores de Class para 0 e 1\n",
    "dados['CLASS'] = dados['CLASS'].map({1:0,\n",
    "                                    2:1})\n",
    "\n",
    "# Tratando os dados que são do tipo Objeto\n",
    "dados = dados.astype(float)\n",
    "\n",
    "\n",
    "# Expondo como ficou o tratamento\n",
    "dados.head()\n"
   ]
  },
  {
   "cell_type": "code",
   "execution_count": 267,
   "metadata": {},
   "outputs": [
    {
     "data": {
      "image/png": "[encoded data removed]",
      "text/plain": [
       "<Figure size 864x360 with 1 Axes>"
      ]
     },
     "metadata": {
      "needs_background": "light"
     },
     "output_type": "display_data"
    }
   ],
   "source": [
    "# Verificando o Balanceamento dos Dados do Dataset\n",
    "plt.figure(figsize=(12,5))\n",
    "plt.ylabel('Valores', fontsize=15, fontweight='bold')\n",
    "plt.xlabel('Classes', fontsize=15, fontweight='bold')\n",
    "dados['CLASS'].value_counts().plot(kind='bar')\n",
    "plt.show()"
   ]
  },
  {
   "cell_type": "code",
   "execution_count": 268,
   "metadata": {},
   "outputs": [],
   "source": [
    "# Resolvendo o problema de desbalanceamento\n",
    "ros = RandomOverSampler(random_state=123)\n",
    "\n",
    "X_resample, y_resample = ros.fit_resample(dados.drop(labels=['CLASS'], axis=1), dados['CLASS'])\n",
    "\n",
    "# Concatenando os dados Resampleados com OverSample\n",
    "\n",
    "dados_resample = pd.concat([X_resample, y_resample], axis=1)"
   ]
  },
  {
   "cell_type": "code",
   "execution_count": 269,
   "metadata": {},
   "outputs": [
    {
     "name": "stdout",
     "output_type": "stream",
     "text": [
      "Os dados anteriores possuiam 80 linhas e 20 colunas.\n",
      "Os dados modificados possuem 134 linhas e 20 colunas\n"
     ]
    }
   ],
   "source": [
    "# Verificando o Shape dos dados antigo em relação aos Novos\n",
    "print(f\"Os dados anteriores possuiam {dados.shape[0]} linhas e {dados.shape[1]} colunas.\")\n",
    "print(f\"Os dados modificados possuem {dados_resample.shape[0]} linhas e {dados_resample.shape[1]} colunas\")"
   ]
  },
  {
   "cell_type": "code",
   "execution_count": 270,
   "metadata": {},
   "outputs": [
    {
     "data": {
      "image/png": "[encoded data removed]",
      "text/plain": [
       "<Figure size 864x360 with 1 Axes>"
      ]
     },
     "metadata": {
      "needs_background": "light"
     },
     "output_type": "display_data"
    }
   ],
   "source": [
    "# Verificando o Balanceamento dos Dados do Dataset após modificação\n",
    "plt.figure(figsize=(12,5))\n",
    "plt.ylabel('Valores', fontsize=15, fontweight='bold')\n",
    "plt.xlabel('Classes', fontsize=15, fontweight='bold')\n",
    "dados_resample['CLASS'].value_counts().plot(kind='bar')\n",
    "plt.show()"
   ]
  },
  {
   "cell_type": "markdown",
   "metadata": {},
   "source": [
    "### Funções de Plotagem e Avaliação de Modelos"
   ]
  },
  {
   "cell_type": "code",
   "execution_count": 271,
   "metadata": {},
   "outputs": [],
   "source": [
    "def plot_history(loss_list, accuracy_list, title):\n",
    "    fig, (ax1,ax2) = plt.subplots(2, figsize=(6,8), sharex=True)\n",
    "    \n",
    "    ax1.set_title(title, fontsize=14, fontweight='bold')\n",
    "    ax2.set_title(title, fontsize=14, fontweight='bold')\n",
    "    ax1.plot(accuracy_list)\n",
    "    ax1.set_ylabel('Validação - Accuracy')\n",
    "    ax2.plot(loss_list)\n",
    "    \n",
    "    ax2.set_ylabel('Validação - Loss')\n",
    "    ax2.set_xlabel('Epochs')\n",
    "    return\n",
    "\n",
    "def print_results(y_test, y_pred):\n",
    "    mc = pd.DataFrame(confusion_matrix(y_test, y_pred), index=['Atual: Não',\n",
    "                                                             'Atual: Sim'],\n",
    "                     columns=['Predição: Não', 'Predição: Sim'])\n",
    "    display(mc)\n",
    "    class_report = pd.DataFrame(classification_report(y_test,y_pred, output_dict=True)).transpose()\n",
    "    display(class_report)\n",
    "    print(f'Acuracidade: {round(accuracy_score(y_test,y_pred)*100,2)} %')\n",
    "    return"
   ]
  },
  {
   "cell_type": "markdown",
   "metadata": {},
   "source": [
    "## Modelo DEEP LEARNING - Utilizando o *Pytorch*"
   ]
  },
  {
   "cell_type": "markdown",
   "metadata": {},
   "source": [
    "### Definindo o Modelo"
   ]
  },
  {
   "cell_type": "code",
   "execution_count": 272,
   "metadata": {},
   "outputs": [],
   "source": [
    "class Model(nn.Module):\n",
    "    def __init__(self, input_dim):\n",
    "        super(Model, self).__init__()\n",
    "        self.layer1 = nn.Linear(input_dim, 50)\n",
    "        self.layer2 = nn.Linear(50,50)\n",
    "        self.layer3 = nn.Linear(50,2)\n",
    "        \n",
    "    def forward (self, x):\n",
    "        x = torch.relu(self.layer1(x))\n",
    "        x = torch.relu(self.layer2(x))\n",
    "        x = torch.softmax(self.layer3(x), dim=1)\n",
    "        return x\n",
    "    "
   ]
  },
  {
   "cell_type": "markdown",
   "metadata": {},
   "source": [
    "### Modelo Não Penalizado"
   ]
  },
  {
   "cell_type": "code",
   "execution_count": 273,
   "metadata": {},
   "outputs": [
    {
     "name": "stderr",
     "output_type": "stream",
     "text": [
      "100%|█████████████████████████████████████████████████████████████████████████████| 1000/1000 [00:01<00:00, 760.18it/s]\n"
     ]
    },
    {
     "data": {
      "text/html": [
       "<div>\n",
       "<style scoped>\n",
       "    .dataframe tbody tr th:only-of-type {\n",
       "        vertical-align: middle;\n",
       "    }\n",
       "\n",
       "    .dataframe tbody tr th {\n",
       "        vertical-align: top;\n",
       "    }\n",
       "\n",
       "    .dataframe thead th {\n",
       "        text-align: right;\n",
       "    }\n",
       "</style>\n",
       "<table border=\"1\" class=\"dataframe\">\n",
       "  <thead>\n",
       "    <tr style=\"text-align: right;\">\n",
       "      <th></th>\n",
       "      <th>Predição: Não</th>\n",
       "      <th>Predição: Sim</th>\n",
       "    </tr>\n",
       "  </thead>\n",
       "  <tbody>\n",
       "    <tr>\n",
       "      <th>Atual: Não</th>\n",
       "      <td>18</td>\n",
       "      <td>0</td>\n",
       "    </tr>\n",
       "    <tr>\n",
       "      <th>Atual: Sim</th>\n",
       "      <td>2</td>\n",
       "      <td>21</td>\n",
       "    </tr>\n",
       "  </tbody>\n",
       "</table>\n",
       "</div>"
      ],
      "text/plain": [
       "            Predição: Não  Predição: Sim\n",
       "Atual: Não             18              0\n",
       "Atual: Sim              2             21"
      ]
     },
     "metadata": {},
     "output_type": "display_data"
    },
    {
     "data": {
      "text/html": [
       "<div>\n",
       "<style scoped>\n",
       "    .dataframe tbody tr th:only-of-type {\n",
       "        vertical-align: middle;\n",
       "    }\n",
       "\n",
       "    .dataframe tbody tr th {\n",
       "        vertical-align: top;\n",
       "    }\n",
       "\n",
       "    .dataframe thead th {\n",
       "        text-align: right;\n",
       "    }\n",
       "</style>\n",
       "<table border=\"1\" class=\"dataframe\">\n",
       "  <thead>\n",
       "    <tr style=\"text-align: right;\">\n",
       "      <th></th>\n",
       "      <th>precision</th>\n",
       "      <th>recall</th>\n",
       "      <th>f1-score</th>\n",
       "      <th>support</th>\n",
       "    </tr>\n",
       "  </thead>\n",
       "  <tbody>\n",
       "    <tr>\n",
       "      <th>0</th>\n",
       "      <td>0.900000</td>\n",
       "      <td>1.000000</td>\n",
       "      <td>0.947368</td>\n",
       "      <td>18.00000</td>\n",
       "    </tr>\n",
       "    <tr>\n",
       "      <th>1</th>\n",
       "      <td>1.000000</td>\n",
       "      <td>0.913043</td>\n",
       "      <td>0.954545</td>\n",
       "      <td>23.00000</td>\n",
       "    </tr>\n",
       "    <tr>\n",
       "      <th>accuracy</th>\n",
       "      <td>0.951220</td>\n",
       "      <td>0.951220</td>\n",
       "      <td>0.951220</td>\n",
       "      <td>0.95122</td>\n",
       "    </tr>\n",
       "    <tr>\n",
       "      <th>macro avg</th>\n",
       "      <td>0.950000</td>\n",
       "      <td>0.956522</td>\n",
       "      <td>0.950957</td>\n",
       "      <td>41.00000</td>\n",
       "    </tr>\n",
       "    <tr>\n",
       "      <th>weighted avg</th>\n",
       "      <td>0.956098</td>\n",
       "      <td>0.951220</td>\n",
       "      <td>0.951395</td>\n",
       "      <td>41.00000</td>\n",
       "    </tr>\n",
       "  </tbody>\n",
       "</table>\n",
       "</div>"
      ],
      "text/plain": [
       "              precision    recall  f1-score   support\n",
       "0              0.900000  1.000000  0.947368  18.00000\n",
       "1              1.000000  0.913043  0.954545  23.00000\n",
       "accuracy       0.951220  0.951220  0.951220   0.95122\n",
       "macro avg      0.950000  0.956522  0.950957  41.00000\n",
       "weighted avg   0.956098  0.951220  0.951395  41.00000"
      ]
     },
     "metadata": {},
     "output_type": "display_data"
    },
    {
     "name": "stdout",
     "output_type": "stream",
     "text": [
      "Acuracidade: 95.12 %\n"
     ]
    },
    {
     "data": {
      "image/png": "[encoded data removed]",
      "text/plain": [
       "<Figure size 432x576 with 2 Axes>"
      ]
     },
     "metadata": {
      "needs_background": "light"
     },
     "output_type": "display_data"
    }
   ],
   "source": [
    "X_train, X_test, y_train, y_test = train_test_split(X_resample, y_resample, test_size=0.3, \n",
    "                                                   random_state=123)\n",
    "# Incialização\n",
    "model = Model(X_train.shape[1])\n",
    "optimizer = torch.optim.Adam(model.parameters(), lr = 0.001)\n",
    "loss_fn = nn.CrossEntropyLoss()\n",
    "\n",
    "# Transformação de Variáveis\n",
    "X_train = Variable(torch.from_numpy(X_train.to_numpy())).float()\n",
    "y_train = Variable(torch.from_numpy(y_train.to_numpy())).long()\n",
    "\n",
    "X_test = Variable(torch.from_numpy(X_test.to_numpy())).float()\n",
    "y_test = Variable(torch.from_numpy(y_test.to_numpy())).long()\n",
    "\n",
    "# Treinando o Modelo\n",
    "import tqdm\n",
    "EPOCHS = 1000\n",
    "loss_list =     np.zeros((EPOCHS,))\n",
    "accuracy_list = np.zeros((EPOCHS,))\n",
    "\n",
    "# Modelos não Penalizado\n",
    "for epoch in tqdm.trange(EPOCHS):\n",
    "    # Forward \n",
    "    y_pred = model(X_train)\n",
    "    \n",
    "    # Calcular o erro\n",
    "    loss = loss_fn(y_pred, y_train)\n",
    "    loss_list[epoch] = loss.item()\n",
    "    \n",
    "    # Inicializar os Gradientes do Otimizador\n",
    "    optimizer.zero_grad()\n",
    "    \n",
    "    # Recupera Gradientes\n",
    "    loss.backward()\n",
    "    \n",
    "    # Atualiza parametros da rede com base nos gradientes\n",
    "    optimizer.step()\n",
    "    \n",
    "    with torch.no_grad():\n",
    "        y_pred = model(X_test)\n",
    "        correct = (torch.argmax(y_pred, dim=1) == y_test).type(torch.FloatTensor)\n",
    "        accuracy_list[epoch] = correct.mean()\n",
    "\n",
    "# Realizando a Predição do Modelo sem Penalização\n",
    "y_pred = model(X_test)\n",
    "y_pred = np.argmax(y_pred.detach().numpy(), axis=1)\n",
    "\n",
    "# Imprimindo os Resultados\n",
    "print_results(y_test,y_pred)\n",
    "\n",
    "# Avaliando o Modelo\n",
    "plot_history(loss_list, accuracy_list, 'Modelo Não Penalizado')"
   ]
  },
  {
   "cell_type": "markdown",
   "metadata": {},
   "source": [
    "### Treinamento do Modelo Penalizado"
   ]
  },
  {
   "cell_type": "code",
   "execution_count": 274,
   "metadata": {},
   "outputs": [
    {
     "name": "stderr",
     "output_type": "stream",
     "text": [
      "100%|█████████████████████████████████████████████████████████████████████████████| 1000/1000 [00:01<00:00, 815.85it/s]\n"
     ]
    },
    {
     "data": {
      "text/html": [
       "<div>\n",
       "<style scoped>\n",
       "    .dataframe tbody tr th:only-of-type {\n",
       "        vertical-align: middle;\n",
       "    }\n",
       "\n",
       "    .dataframe tbody tr th {\n",
       "        vertical-align: top;\n",
       "    }\n",
       "\n",
       "    .dataframe thead th {\n",
       "        text-align: right;\n",
       "    }\n",
       "</style>\n",
       "<table border=\"1\" class=\"dataframe\">\n",
       "  <thead>\n",
       "    <tr style=\"text-align: right;\">\n",
       "      <th></th>\n",
       "      <th>Predição: Não</th>\n",
       "      <th>Predição: Sim</th>\n",
       "    </tr>\n",
       "  </thead>\n",
       "  <tbody>\n",
       "    <tr>\n",
       "      <th>Atual: Não</th>\n",
       "      <td>18</td>\n",
       "      <td>0</td>\n",
       "    </tr>\n",
       "    <tr>\n",
       "      <th>Atual: Sim</th>\n",
       "      <td>5</td>\n",
       "      <td>18</td>\n",
       "    </tr>\n",
       "  </tbody>\n",
       "</table>\n",
       "</div>"
      ],
      "text/plain": [
       "            Predição: Não  Predição: Sim\n",
       "Atual: Não             18              0\n",
       "Atual: Sim              5             18"
      ]
     },
     "metadata": {},
     "output_type": "display_data"
    },
    {
     "data": {
      "text/html": [
       "<div>\n",
       "<style scoped>\n",
       "    .dataframe tbody tr th:only-of-type {\n",
       "        vertical-align: middle;\n",
       "    }\n",
       "\n",
       "    .dataframe tbody tr th {\n",
       "        vertical-align: top;\n",
       "    }\n",
       "\n",
       "    .dataframe thead th {\n",
       "        text-align: right;\n",
       "    }\n",
       "</style>\n",
       "<table border=\"1\" class=\"dataframe\">\n",
       "  <thead>\n",
       "    <tr style=\"text-align: right;\">\n",
       "      <th></th>\n",
       "      <th>precision</th>\n",
       "      <th>recall</th>\n",
       "      <th>f1-score</th>\n",
       "      <th>support</th>\n",
       "    </tr>\n",
       "  </thead>\n",
       "  <tbody>\n",
       "    <tr>\n",
       "      <th>0</th>\n",
       "      <td>0.782609</td>\n",
       "      <td>1.000000</td>\n",
       "      <td>0.878049</td>\n",
       "      <td>18.000000</td>\n",
       "    </tr>\n",
       "    <tr>\n",
       "      <th>1</th>\n",
       "      <td>1.000000</td>\n",
       "      <td>0.782609</td>\n",
       "      <td>0.878049</td>\n",
       "      <td>23.000000</td>\n",
       "    </tr>\n",
       "    <tr>\n",
       "      <th>accuracy</th>\n",
       "      <td>0.878049</td>\n",
       "      <td>0.878049</td>\n",
       "      <td>0.878049</td>\n",
       "      <td>0.878049</td>\n",
       "    </tr>\n",
       "    <tr>\n",
       "      <th>macro avg</th>\n",
       "      <td>0.891304</td>\n",
       "      <td>0.891304</td>\n",
       "      <td>0.878049</td>\n",
       "      <td>41.000000</td>\n",
       "    </tr>\n",
       "    <tr>\n",
       "      <th>weighted avg</th>\n",
       "      <td>0.904560</td>\n",
       "      <td>0.878049</td>\n",
       "      <td>0.878049</td>\n",
       "      <td>41.000000</td>\n",
       "    </tr>\n",
       "  </tbody>\n",
       "</table>\n",
       "</div>"
      ],
      "text/plain": [
       "              precision    recall  f1-score    support\n",
       "0              0.782609  1.000000  0.878049  18.000000\n",
       "1              1.000000  0.782609  0.878049  23.000000\n",
       "accuracy       0.878049  0.878049  0.878049   0.878049\n",
       "macro avg      0.891304  0.891304  0.878049  41.000000\n",
       "weighted avg   0.904560  0.878049  0.878049  41.000000"
      ]
     },
     "metadata": {},
     "output_type": "display_data"
    },
    {
     "name": "stdout",
     "output_type": "stream",
     "text": [
      "Acuracidade: 87.8 %\n"
     ]
    },
    {
     "data": {
      "image/png": "[encoded data removed]",
      "text/plain": [
       "<Figure size 432x576 with 2 Axes>"
      ]
     },
     "metadata": {
      "needs_background": "light"
     },
     "output_type": "display_data"
    }
   ],
   "source": [
    "X_train, X_test, y_train, y_test = train_test_split(X_resample, y_resample, test_size=0.3, \n",
    "                                                   random_state=123)\n",
    "# Incialização\n",
    "model = Model(X_train.shape[1])\n",
    "optimizer = torch.optim.Adam(model.parameters(), lr = 0.001, weight_decay=0.2)\n",
    "loss_fn = nn.CrossEntropyLoss()\n",
    "\n",
    "# Transformação de Variáveis\n",
    "X_train = Variable(torch.from_numpy(X_train.to_numpy())).float()\n",
    "y_train = Variable(torch.from_numpy(y_train.to_numpy())).long()\n",
    "\n",
    "X_test = Variable(torch.from_numpy(X_test.to_numpy())).float()\n",
    "y_test = Variable(torch.from_numpy(y_test.to_numpy())).long()\n",
    "\n",
    "# Treinando o Modelo\n",
    "import tqdm\n",
    "EPOCHS = 1000\n",
    "loss_list =     np.zeros((EPOCHS,))\n",
    "accuracy_list = np.zeros((EPOCHS,))\n",
    "\n",
    "# Modelos não Penalizado\n",
    "for epoch in tqdm.trange(EPOCHS):\n",
    "    # Forward \n",
    "    y_pred = model(X_train)\n",
    "    \n",
    "    # Calcular o erro\n",
    "    loss = loss_fn(y_pred, y_train)\n",
    "    loss_list[epoch] = loss.item()\n",
    "    \n",
    "    # Inicializar os Gradientes do Otimizador\n",
    "    optimizer.zero_grad()\n",
    "    \n",
    "    # Recupera Gradientes\n",
    "    loss.backward()\n",
    "    \n",
    "    # Atualiza parametros da rede com base nos gradientes\n",
    "    optimizer.step()\n",
    "    \n",
    "    with torch.no_grad():\n",
    "        y_pred = model(X_test)\n",
    "        correct = (torch.argmax(y_pred, dim=1) == y_test).type(torch.FloatTensor)\n",
    "        accuracy_list[epoch] = correct.mean()\n",
    "\n",
    "\n",
    "\n",
    "# Realizando a Predição do Modelo sem Penalização\n",
    "y_pred = model(X_test)\n",
    "y_pred = np.argmax(y_pred.detach().numpy(), axis=1)\n",
    "\n",
    "# Imprimindo os Resultados\n",
    "print_results(y_test,y_pred)\n",
    "\n",
    "# Avaliando o Modelo\n",
    "plot_history(loss_list, accuracy_list, 'Modelo Penalizado')"
   ]
  },
  {
   "cell_type": "markdown",
   "metadata": {},
   "source": [
    "### Conclusões\n",
    "\n",
    "Em relação ao emprego do Pytorch, o resultado foi similar ao modelo empregado com o TensorFlow.Keras.\n",
    "\n",
    "Juntamente com o **torch.optim**, foi adicionado o hiperparâmetro `weight_decay` que implementa uma penalidade `l2` juntamente ao algoritmo `Adam`.\n",
    "\n",
    "Anteriomente (sem aplicar a penalidade `l2`), o modelo apresentava uma acuracidade acima de 95%, ou seja, apresentava características de *overfitting*.\n",
    "\n",
    "Outro aspecto importante foi a testagem de outros algoritmos constantes da documentação. Os algoritmos `SGD`, `RAdam`, `AdamW` não apresentaram o desempenho adequado para uma acuracidade acima de 80%. Neste contexto, foi escolhido o algoritmo `Adam`."
   ]
  },
  {
   "cell_type": "markdown",
   "metadata": {},
   "source": [
    "**Local no GitHub**:\n",
    "https://github.com/willianpina/Deep_Learning_Estudos/blob/main/Trilha_6_Peso_3_Exerc%C3%ADcio_Pytorch.ipynb\n",
    "\n"
   ]
  }
 ],
 "metadata": {
  "hide_input": false,
  "kernelspec": {
   "display_name": "Python 3",
   "language": "python",
   "name": "python3"
  },
  "language_info": {
   "codemirror_mode": {
    "name": "ipython",
    "version": 3
   },
   "file_extension": ".py",
   "mimetype": "text/x-python",
   "name": "python",
   "nbconvert_exporter": "python",
   "pygments_lexer": "ipython3",
   "version": "3.8.5"
  }
 },
 "nbformat": 4,
 "nbformat_minor": 1
}
